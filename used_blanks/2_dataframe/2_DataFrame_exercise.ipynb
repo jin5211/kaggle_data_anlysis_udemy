{
 "cells": [
  {
   "cell_type": "markdown",
   "id": "40d9c665",
   "metadata": {},
   "source": [
    "---\n",
    "# DataFrame  Exercise\n",
    "---"
   ]
  },
  {
   "cell_type": "code",
   "execution_count": 1,
   "id": "2fe04f33",
   "metadata": {},
   "outputs": [],
   "source": [
    "import numpy as np\n",
    "import pandas as pd\n",
    "import matplotlib.pyplot as plt\n",
    "import seaborn as sns"
   ]
  },
  {
   "cell_type": "markdown",
   "id": "28d6b528",
   "metadata": {},
   "source": [
    "Exercise_1 : Pandas の date_range を用いて 2000/7/1 から100日の DatetimeIndexと、2000/7/1 0時からから3時間毎の100個の DatetimeIndexを作成してください（date）"
   ]
  },
  {
   "cell_type": "code",
   "execution_count": 2,
   "id": "75eec315",
   "metadata": {},
   "outputs": [],
   "source": [
    "dates = pd.date_range('2000/7/1', periods=100, freq='D')"
   ]
  },
  {
   "cell_type": "markdown",
   "id": "1372d1db",
   "metadata": {},
   "source": [
    "<details>\n",
    "    <summary><font color='red'>解答はここをクリック</font></summary>\n",
    "    <code>dates = pd.date_range('2000/7/1', periods=100, freq='D')</code>\n",
    "</details>"
   ]
  },
  {
   "cell_type": "code",
   "execution_count": 3,
   "id": "8c671c2f",
   "metadata": {},
   "outputs": [
    {
     "data": {
      "text/plain": [
       "DatetimeIndex(['2000-07-01', '2000-07-02', '2000-07-03', '2000-07-04',\n",
       "               '2000-07-05', '2000-07-06', '2000-07-07', '2000-07-08',\n",
       "               '2000-07-09', '2000-07-10'],\n",
       "              dtype='datetime64[ns]', freq='D')"
      ]
     },
     "execution_count": 3,
     "metadata": {},
     "output_type": "execute_result"
    }
   ],
   "source": [
    "# 実行して表示\n",
    "dates[:10]"
   ]
  },
  {
   "cell_type": "code",
   "execution_count": 5,
   "id": "1027efa0",
   "metadata": {},
   "outputs": [],
   "source": [
    "times = pd.date_range('2000/7/10', periods=100, freq='3h')"
   ]
  },
  {
   "cell_type": "markdown",
   "id": "6f06b90d",
   "metadata": {},
   "source": [
    "<details>\n",
    "    <summary><font color='red'>解答はここをクリック</font></summary>\n",
    "    <code>dates = pd.date_range('2000/7/1', periods=100, freq='3H')</code>\n",
    "</details>"
   ]
  },
  {
   "cell_type": "code",
   "execution_count": 6,
   "id": "41ca82e5",
   "metadata": {},
   "outputs": [
    {
     "data": {
      "text/plain": [
       "DatetimeIndex(['2000-07-10 00:00:00', '2000-07-10 03:00:00',\n",
       "               '2000-07-10 06:00:00', '2000-07-10 09:00:00',\n",
       "               '2000-07-10 12:00:00', '2000-07-10 15:00:00',\n",
       "               '2000-07-10 18:00:00', '2000-07-10 21:00:00',\n",
       "               '2000-07-11 00:00:00', '2000-07-11 03:00:00'],\n",
       "              dtype='datetime64[ns]', freq='3h')"
      ]
     },
     "execution_count": 6,
     "metadata": {},
     "output_type": "execute_result"
    }
   ],
   "source": [
    "# 実行して表示\n",
    "times[:10]"
   ]
  },
  {
   "cell_type": "markdown",
   "id": "4d1f6bf7",
   "metadata": {},
   "source": [
    "Exercise_2 : arr_int と arr_uni の Numpy Array を index方向（縦、1次元方向）、column方向（横、2次元方向）に結合してください（arr_concat_v, arr_concat_h）"
   ]
  },
  {
   "cell_type": "code",
   "execution_count": 7,
   "id": "4d45835a",
   "metadata": {},
   "outputs": [],
   "source": [
    "# 実行のみ\n",
    "arr_int = np.random.randint(0, 100, (4, 3))\n",
    "arr_uni = np.random.uniform(40, 60, (4, 3))"
   ]
  },
  {
   "cell_type": "code",
   "execution_count": 8,
   "id": "686ffcb5",
   "metadata": {},
   "outputs": [
    {
     "data": {
      "text/plain": [
       "array([[28.        , 55.        ,  1.        ],\n",
       "       [28.        , 10.        , 66.        ],\n",
       "       [41.        , 14.        , 10.        ],\n",
       "       [92.        , 72.        , 72.        ],\n",
       "       [47.13933107, 41.13675253, 58.68699882],\n",
       "       [47.93037516, 50.03248952, 51.6463459 ],\n",
       "       [57.71476045, 57.77765935, 52.21083614],\n",
       "       [57.78021433, 53.25293387, 41.77794803]])"
      ]
     },
     "execution_count": 8,
     "metadata": {},
     "output_type": "execute_result"
    }
   ],
   "source": [
    "arr_concat_v = np.concatenate([arr_int, arr_uni])\n",
    "arr_concat_v"
   ]
  },
  {
   "cell_type": "markdown",
   "id": "6dd2ff88",
   "metadata": {},
   "source": [
    "<details>\n",
    "    <summary><font color='red'>解答はここをクリック</font></summary>\n",
    "    <code>arr_concat_v = np.concatenate([arr_int, arr_uni], axis=0)</code>\n",
    "</details>"
   ]
  },
  {
   "cell_type": "code",
   "execution_count": 9,
   "id": "1aaddcce",
   "metadata": {},
   "outputs": [
    {
     "data": {
      "text/plain": [
       "(8, 3)"
      ]
     },
     "execution_count": 9,
     "metadata": {},
     "output_type": "execute_result"
    }
   ],
   "source": [
    "# 実行して表示\n",
    "arr_concat_v.shape\n",
    "# (8, 3)が表示されればOK"
   ]
  },
  {
   "cell_type": "code",
   "execution_count": 10,
   "id": "7c452fa7",
   "metadata": {},
   "outputs": [
    {
     "data": {
      "text/plain": [
       "array([[28.        , 55.        ,  1.        , 47.13933107, 41.13675253,\n",
       "        58.68699882],\n",
       "       [28.        , 10.        , 66.        , 47.93037516, 50.03248952,\n",
       "        51.6463459 ],\n",
       "       [41.        , 14.        , 10.        , 57.71476045, 57.77765935,\n",
       "        52.21083614],\n",
       "       [92.        , 72.        , 72.        , 57.78021433, 53.25293387,\n",
       "        41.77794803]])"
      ]
     },
     "execution_count": 10,
     "metadata": {},
     "output_type": "execute_result"
    }
   ],
   "source": [
    "arr_concat_h = np.concatenate([arr_int, arr_uni], axis=1)\n",
    "arr_concat_h"
   ]
  },
  {
   "cell_type": "markdown",
   "id": "d540895f",
   "metadata": {},
   "source": [
    "<details>\n",
    "    <summary><font color='red'>解答はここをクリック</font></summary>\n",
    "    <code>arr_concat_h = np.concatenate([arr_int, arr_uni], axis=1)</code>\n",
    "</details>"
   ]
  },
  {
   "cell_type": "code",
   "execution_count": 11,
   "id": "fd1c6a96",
   "metadata": {},
   "outputs": [
    {
     "data": {
      "text/plain": [
       "(4, 6)"
      ]
     },
     "execution_count": 11,
     "metadata": {},
     "output_type": "execute_result"
    }
   ],
   "source": [
    "arr_concat_h.shape\n",
    "# (4, 6)が表示されればOK"
   ]
  },
  {
   "cell_type": "markdown",
   "id": "b2c30d92",
   "metadata": {},
   "source": [
    "Exercise_3 : arr_concat_v から、Seriesを作成してください（sr1）。　ヒント　次元の変更"
   ]
  },
  {
   "cell_type": "code",
   "execution_count": 13,
   "id": "d17f7392",
   "metadata": {},
   "outputs": [
    {
     "data": {
      "text/plain": [
       "array([28.        , 55.        ,  1.        , 28.        , 10.        ,\n",
       "       66.        , 41.        , 14.        , 10.        , 92.        ,\n",
       "       72.        , 72.        , 47.13933107, 41.13675253, 58.68699882,\n",
       "       47.93037516, 50.03248952, 51.6463459 , 57.71476045, 57.77765935,\n",
       "       52.21083614, 57.78021433, 53.25293387, 41.77794803])"
      ]
     },
     "execution_count": 13,
     "metadata": {},
     "output_type": "execute_result"
    }
   ],
   "source": [
    "arr_concat_v.reshape(-1)"
   ]
  },
  {
   "cell_type": "code",
   "execution_count": 14,
   "id": "cbd423f9",
   "metadata": {},
   "outputs": [],
   "source": [
    "sr1 = pd.Series(arr_concat_v.reshape(-1))"
   ]
  },
  {
   "cell_type": "markdown",
   "id": "511d1834",
   "metadata": {},
   "source": [
    "<details>\n",
    "    <summary><font color='red'>解答はここをクリック</font></summary>\n",
    "    <code>sr1 = pd.Series(arr_concat_v.flatten())</code>\n",
    "</details>"
   ]
  },
  {
   "cell_type": "code",
   "execution_count": 15,
   "id": "5fc46f1e",
   "metadata": {},
   "outputs": [
    {
     "data": {
      "text/plain": [
       "0     28.000000\n",
       "1     55.000000\n",
       "2      1.000000\n",
       "3     28.000000\n",
       "4     10.000000\n",
       "5     66.000000\n",
       "6     41.000000\n",
       "7     14.000000\n",
       "8     10.000000\n",
       "9     92.000000\n",
       "10    72.000000\n",
       "11    72.000000\n",
       "12    47.139331\n",
       "13    41.136753\n",
       "14    58.686999\n",
       "15    47.930375\n",
       "16    50.032490\n",
       "17    51.646346\n",
       "18    57.714760\n",
       "19    57.777659\n",
       "20    52.210836\n",
       "21    57.780214\n",
       "22    53.252934\n",
       "23    41.777948\n",
       "dtype: float64"
      ]
     },
     "execution_count": 15,
     "metadata": {},
     "output_type": "execute_result"
    }
   ],
   "source": [
    "# 実行して表示\n",
    "sr1"
   ]
  },
  {
   "cell_type": "markdown",
   "id": "a778a4ba",
   "metadata": {},
   "source": [
    "Exercise_4 : arr_concat_h から、indexラベルを ['Zero', 'One', 'Two', 'Three']、columnラベルを ['A', 'B', 'C', 'D', 'E', 'F'] としてデータフレームを作成してください（df1)"
   ]
  },
  {
   "cell_type": "code",
   "execution_count": 17,
   "id": "683d507a",
   "metadata": {},
   "outputs": [],
   "source": [
    "df1 = pd.DataFrame(arr_concat_h, index=['Zero', 'One', 'Two', 'Three'], columns=['A', 'B', 'C', 'D', 'E', 'F'])"
   ]
  },
  {
   "cell_type": "markdown",
   "id": "8aae82ee",
   "metadata": {},
   "source": [
    "<details>\n",
    "    <summary><font color='red'>解答はここをクリック</font></summary>\n",
    "    <code>df1 = pd.DataFrame(arr_concat_h, index=['Zero', 'One', 'Two', 'Three'], columns= ['A', 'B', 'C', 'D', 'E', 'F'])</code>\n",
    "</details>"
   ]
  },
  {
   "cell_type": "code",
   "execution_count": 18,
   "id": "b85002ac",
   "metadata": {},
   "outputs": [
    {
     "data": {
      "text/html": [
       "<div>\n",
       "<style scoped>\n",
       "    .dataframe tbody tr th:only-of-type {\n",
       "        vertical-align: middle;\n",
       "    }\n",
       "\n",
       "    .dataframe tbody tr th {\n",
       "        vertical-align: top;\n",
       "    }\n",
       "\n",
       "    .dataframe thead th {\n",
       "        text-align: right;\n",
       "    }\n",
       "</style>\n",
       "<table border=\"1\" class=\"dataframe\">\n",
       "  <thead>\n",
       "    <tr style=\"text-align: right;\">\n",
       "      <th></th>\n",
       "      <th>A</th>\n",
       "      <th>B</th>\n",
       "      <th>C</th>\n",
       "      <th>D</th>\n",
       "      <th>E</th>\n",
       "      <th>F</th>\n",
       "    </tr>\n",
       "  </thead>\n",
       "  <tbody>\n",
       "    <tr>\n",
       "      <th>Zero</th>\n",
       "      <td>28.0</td>\n",
       "      <td>55.0</td>\n",
       "      <td>1.0</td>\n",
       "      <td>47.139331</td>\n",
       "      <td>41.136753</td>\n",
       "      <td>58.686999</td>\n",
       "    </tr>\n",
       "    <tr>\n",
       "      <th>One</th>\n",
       "      <td>28.0</td>\n",
       "      <td>10.0</td>\n",
       "      <td>66.0</td>\n",
       "      <td>47.930375</td>\n",
       "      <td>50.032490</td>\n",
       "      <td>51.646346</td>\n",
       "    </tr>\n",
       "    <tr>\n",
       "      <th>Two</th>\n",
       "      <td>41.0</td>\n",
       "      <td>14.0</td>\n",
       "      <td>10.0</td>\n",
       "      <td>57.714760</td>\n",
       "      <td>57.777659</td>\n",
       "      <td>52.210836</td>\n",
       "    </tr>\n",
       "    <tr>\n",
       "      <th>Three</th>\n",
       "      <td>92.0</td>\n",
       "      <td>72.0</td>\n",
       "      <td>72.0</td>\n",
       "      <td>57.780214</td>\n",
       "      <td>53.252934</td>\n",
       "      <td>41.777948</td>\n",
       "    </tr>\n",
       "  </tbody>\n",
       "</table>\n",
       "</div>"
      ],
      "text/plain": [
       "          A     B     C          D          E          F\n",
       "Zero   28.0  55.0   1.0  47.139331  41.136753  58.686999\n",
       "One    28.0  10.0  66.0  47.930375  50.032490  51.646346\n",
       "Two    41.0  14.0  10.0  57.714760  57.777659  52.210836\n",
       "Three  92.0  72.0  72.0  57.780214  53.252934  41.777948"
      ]
     },
     "execution_count": 18,
     "metadata": {},
     "output_type": "execute_result"
    }
   ],
   "source": [
    "# 実行して表示\n",
    "df1"
   ]
  },
  {
   "cell_type": "markdown",
   "id": "8f1ead72",
   "metadata": {},
   "source": [
    "Exercise_5 : 上記 df の indexラベルを ['P', 'Q', 'R', 'S']、columnラベルを ['col_0', 'col_1', 'col_2', 'col_3', 'col_4', 'col_5'] へ変更してください"
   ]
  },
  {
   "cell_type": "code",
   "execution_count": 19,
   "id": "31672c94",
   "metadata": {},
   "outputs": [],
   "source": [
    "df1.index = ['P', 'Q', 'R', 'S']\n",
    "df1.columns = ['col_0', 'col_1', 'col_2', 'col_3', 'col_4', 'col_5']"
   ]
  },
  {
   "cell_type": "markdown",
   "id": "057c6fc5",
   "metadata": {},
   "source": [
    "<details>\n",
    "    <summary><font color='red'>解答はここをクリック</font></summary>\n",
    "    <code>df1.index = ['P', 'Q', 'R', 'S']</code><br>\n",
    "    <code>df1.columns = ['col_0', 'col_1', 'col_2', 'col_3', 'col_4', 'col_5']</code><br>\n",
    "    <code>df1.rename(index={'旧':'新', ...}, columns={'旧':'新', ...})でも可</code>\n",
    "</details>"
   ]
  },
  {
   "cell_type": "code",
   "execution_count": 20,
   "id": "4108338f",
   "metadata": {},
   "outputs": [
    {
     "data": {
      "text/html": [
       "<div>\n",
       "<style scoped>\n",
       "    .dataframe tbody tr th:only-of-type {\n",
       "        vertical-align: middle;\n",
       "    }\n",
       "\n",
       "    .dataframe tbody tr th {\n",
       "        vertical-align: top;\n",
       "    }\n",
       "\n",
       "    .dataframe thead th {\n",
       "        text-align: right;\n",
       "    }\n",
       "</style>\n",
       "<table border=\"1\" class=\"dataframe\">\n",
       "  <thead>\n",
       "    <tr style=\"text-align: right;\">\n",
       "      <th></th>\n",
       "      <th>col_0</th>\n",
       "      <th>col_1</th>\n",
       "      <th>col_2</th>\n",
       "      <th>col_3</th>\n",
       "      <th>col_4</th>\n",
       "      <th>col_5</th>\n",
       "    </tr>\n",
       "  </thead>\n",
       "  <tbody>\n",
       "    <tr>\n",
       "      <th>P</th>\n",
       "      <td>28.0</td>\n",
       "      <td>55.0</td>\n",
       "      <td>1.0</td>\n",
       "      <td>47.139331</td>\n",
       "      <td>41.136753</td>\n",
       "      <td>58.686999</td>\n",
       "    </tr>\n",
       "    <tr>\n",
       "      <th>Q</th>\n",
       "      <td>28.0</td>\n",
       "      <td>10.0</td>\n",
       "      <td>66.0</td>\n",
       "      <td>47.930375</td>\n",
       "      <td>50.032490</td>\n",
       "      <td>51.646346</td>\n",
       "    </tr>\n",
       "    <tr>\n",
       "      <th>R</th>\n",
       "      <td>41.0</td>\n",
       "      <td>14.0</td>\n",
       "      <td>10.0</td>\n",
       "      <td>57.714760</td>\n",
       "      <td>57.777659</td>\n",
       "      <td>52.210836</td>\n",
       "    </tr>\n",
       "    <tr>\n",
       "      <th>S</th>\n",
       "      <td>92.0</td>\n",
       "      <td>72.0</td>\n",
       "      <td>72.0</td>\n",
       "      <td>57.780214</td>\n",
       "      <td>53.252934</td>\n",
       "      <td>41.777948</td>\n",
       "    </tr>\n",
       "  </tbody>\n",
       "</table>\n",
       "</div>"
      ],
      "text/plain": [
       "   col_0  col_1  col_2      col_3      col_4      col_5\n",
       "P   28.0   55.0    1.0  47.139331  41.136753  58.686999\n",
       "Q   28.0   10.0   66.0  47.930375  50.032490  51.646346\n",
       "R   41.0   14.0   10.0  57.714760  57.777659  52.210836\n",
       "S   92.0   72.0   72.0  57.780214  53.252934  41.777948"
      ]
     },
     "execution_count": 20,
     "metadata": {},
     "output_type": "execute_result"
    }
   ],
   "source": [
    "# 実行して表示\n",
    "df1"
   ]
  },
  {
   "cell_type": "markdown",
   "id": "1a1ab977",
   "metadata": {},
   "source": [
    "Exercise_6: 下記 df2 を df1 と index方向へ結合してください（df）。また、column方向へ結合した場合も確認してください（実行するだけです）。"
   ]
  },
  {
   "cell_type": "code",
   "execution_count": 21,
   "id": "0fbca9e7",
   "metadata": {
    "scrolled": false
   },
   "outputs": [
    {
     "data": {
      "text/html": [
       "<div>\n",
       "<style scoped>\n",
       "    .dataframe tbody tr th:only-of-type {\n",
       "        vertical-align: middle;\n",
       "    }\n",
       "\n",
       "    .dataframe tbody tr th {\n",
       "        vertical-align: top;\n",
       "    }\n",
       "\n",
       "    .dataframe thead th {\n",
       "        text-align: right;\n",
       "    }\n",
       "</style>\n",
       "<table border=\"1\" class=\"dataframe\">\n",
       "  <thead>\n",
       "    <tr style=\"text-align: right;\">\n",
       "      <th></th>\n",
       "      <th>col_0</th>\n",
       "      <th>col_1</th>\n",
       "      <th>col_2</th>\n",
       "      <th>col_3</th>\n",
       "      <th>col_4</th>\n",
       "      <th>col_5</th>\n",
       "    </tr>\n",
       "  </thead>\n",
       "  <tbody>\n",
       "    <tr>\n",
       "      <th>A</th>\n",
       "      <td>0</td>\n",
       "      <td>1</td>\n",
       "      <td>2</td>\n",
       "      <td>3</td>\n",
       "      <td>4</td>\n",
       "      <td>5</td>\n",
       "    </tr>\n",
       "    <tr>\n",
       "      <th>B</th>\n",
       "      <td>6</td>\n",
       "      <td>7</td>\n",
       "      <td>8</td>\n",
       "      <td>9</td>\n",
       "      <td>10</td>\n",
       "      <td>11</td>\n",
       "    </tr>\n",
       "    <tr>\n",
       "      <th>C</th>\n",
       "      <td>12</td>\n",
       "      <td>13</td>\n",
       "      <td>14</td>\n",
       "      <td>15</td>\n",
       "      <td>16</td>\n",
       "      <td>17</td>\n",
       "    </tr>\n",
       "    <tr>\n",
       "      <th>D</th>\n",
       "      <td>18</td>\n",
       "      <td>19</td>\n",
       "      <td>20</td>\n",
       "      <td>21</td>\n",
       "      <td>22</td>\n",
       "      <td>23</td>\n",
       "    </tr>\n",
       "  </tbody>\n",
       "</table>\n",
       "</div>"
      ],
      "text/plain": [
       "   col_0  col_1  col_2  col_3  col_4  col_5\n",
       "A      0      1      2      3      4      5\n",
       "B      6      7      8      9     10     11\n",
       "C     12     13     14     15     16     17\n",
       "D     18     19     20     21     22     23"
      ]
     },
     "execution_count": 21,
     "metadata": {},
     "output_type": "execute_result"
    }
   ],
   "source": [
    "# 実行して表示\n",
    "arr = np.array(np.arange(24)).reshape(4, 6)\n",
    "df2 = pd.DataFrame(arr, index=list('ABCD'), columns=['col_0', 'col_1', 'col_2', 'col_3', 'col_4', 'col_5'])   # column名は同じ\n",
    "df2"
   ]
  },
  {
   "cell_type": "code",
   "execution_count": 54,
   "id": "3e3a769b",
   "metadata": {},
   "outputs": [],
   "source": [
    "df = pd.concat([df1, df2])"
   ]
  },
  {
   "cell_type": "markdown",
   "id": "45f90af0",
   "metadata": {},
   "source": [
    "<details>\n",
    "    <summary><font color='red'>解答はここをクリック</font></summary>\n",
    "    <code>df = pd.concat([df1, df2], axis=0)</code>\n",
    "</details>"
   ]
  },
  {
   "cell_type": "code",
   "execution_count": 55,
   "id": "477772f1",
   "metadata": {},
   "outputs": [
    {
     "data": {
      "text/html": [
       "<div>\n",
       "<style scoped>\n",
       "    .dataframe tbody tr th:only-of-type {\n",
       "        vertical-align: middle;\n",
       "    }\n",
       "\n",
       "    .dataframe tbody tr th {\n",
       "        vertical-align: top;\n",
       "    }\n",
       "\n",
       "    .dataframe thead th {\n",
       "        text-align: right;\n",
       "    }\n",
       "</style>\n",
       "<table border=\"1\" class=\"dataframe\">\n",
       "  <thead>\n",
       "    <tr style=\"text-align: right;\">\n",
       "      <th></th>\n",
       "      <th>col_0</th>\n",
       "      <th>col_1</th>\n",
       "      <th>col_2</th>\n",
       "      <th>col_3</th>\n",
       "      <th>col_4</th>\n",
       "      <th>col_5</th>\n",
       "    </tr>\n",
       "  </thead>\n",
       "  <tbody>\n",
       "    <tr>\n",
       "      <th>P</th>\n",
       "      <td>28.0</td>\n",
       "      <td>55.0</td>\n",
       "      <td>1.0</td>\n",
       "      <td>47.139331</td>\n",
       "      <td>41.136753</td>\n",
       "      <td>58.686999</td>\n",
       "    </tr>\n",
       "    <tr>\n",
       "      <th>Q</th>\n",
       "      <td>28.0</td>\n",
       "      <td>10.0</td>\n",
       "      <td>66.0</td>\n",
       "      <td>47.930375</td>\n",
       "      <td>50.032490</td>\n",
       "      <td>51.646346</td>\n",
       "    </tr>\n",
       "    <tr>\n",
       "      <th>R</th>\n",
       "      <td>41.0</td>\n",
       "      <td>14.0</td>\n",
       "      <td>10.0</td>\n",
       "      <td>57.714760</td>\n",
       "      <td>57.777659</td>\n",
       "      <td>52.210836</td>\n",
       "    </tr>\n",
       "    <tr>\n",
       "      <th>S</th>\n",
       "      <td>92.0</td>\n",
       "      <td>72.0</td>\n",
       "      <td>72.0</td>\n",
       "      <td>57.780214</td>\n",
       "      <td>53.252934</td>\n",
       "      <td>41.777948</td>\n",
       "    </tr>\n",
       "    <tr>\n",
       "      <th>A</th>\n",
       "      <td>0.0</td>\n",
       "      <td>1.0</td>\n",
       "      <td>2.0</td>\n",
       "      <td>3.000000</td>\n",
       "      <td>4.000000</td>\n",
       "      <td>5.000000</td>\n",
       "    </tr>\n",
       "    <tr>\n",
       "      <th>B</th>\n",
       "      <td>6.0</td>\n",
       "      <td>7.0</td>\n",
       "      <td>8.0</td>\n",
       "      <td>9.000000</td>\n",
       "      <td>10.000000</td>\n",
       "      <td>11.000000</td>\n",
       "    </tr>\n",
       "    <tr>\n",
       "      <th>C</th>\n",
       "      <td>12.0</td>\n",
       "      <td>13.0</td>\n",
       "      <td>14.0</td>\n",
       "      <td>15.000000</td>\n",
       "      <td>16.000000</td>\n",
       "      <td>17.000000</td>\n",
       "    </tr>\n",
       "    <tr>\n",
       "      <th>D</th>\n",
       "      <td>18.0</td>\n",
       "      <td>19.0</td>\n",
       "      <td>20.0</td>\n",
       "      <td>21.000000</td>\n",
       "      <td>22.000000</td>\n",
       "      <td>23.000000</td>\n",
       "    </tr>\n",
       "  </tbody>\n",
       "</table>\n",
       "</div>"
      ],
      "text/plain": [
       "   col_0  col_1  col_2      col_3      col_4      col_5\n",
       "P   28.0   55.0    1.0  47.139331  41.136753  58.686999\n",
       "Q   28.0   10.0   66.0  47.930375  50.032490  51.646346\n",
       "R   41.0   14.0   10.0  57.714760  57.777659  52.210836\n",
       "S   92.0   72.0   72.0  57.780214  53.252934  41.777948\n",
       "A    0.0    1.0    2.0   3.000000   4.000000   5.000000\n",
       "B    6.0    7.0    8.0   9.000000  10.000000  11.000000\n",
       "C   12.0   13.0   14.0  15.000000  16.000000  17.000000\n",
       "D   18.0   19.0   20.0  21.000000  22.000000  23.000000"
      ]
     },
     "execution_count": 55,
     "metadata": {},
     "output_type": "execute_result"
    }
   ],
   "source": [
    "# 実行して表示\n",
    "df"
   ]
  },
  {
   "cell_type": "code",
   "execution_count": 24,
   "id": "ab3007fe",
   "metadata": {},
   "outputs": [
    {
     "data": {
      "text/html": [
       "<div>\n",
       "<style scoped>\n",
       "    .dataframe tbody tr th:only-of-type {\n",
       "        vertical-align: middle;\n",
       "    }\n",
       "\n",
       "    .dataframe tbody tr th {\n",
       "        vertical-align: top;\n",
       "    }\n",
       "\n",
       "    .dataframe thead th {\n",
       "        text-align: right;\n",
       "    }\n",
       "</style>\n",
       "<table border=\"1\" class=\"dataframe\">\n",
       "  <thead>\n",
       "    <tr style=\"text-align: right;\">\n",
       "      <th></th>\n",
       "      <th>col_0</th>\n",
       "      <th>col_1</th>\n",
       "      <th>col_2</th>\n",
       "      <th>col_3</th>\n",
       "      <th>col_4</th>\n",
       "      <th>col_5</th>\n",
       "      <th>col_0</th>\n",
       "      <th>col_1</th>\n",
       "      <th>col_2</th>\n",
       "      <th>col_3</th>\n",
       "      <th>col_4</th>\n",
       "      <th>col_5</th>\n",
       "    </tr>\n",
       "  </thead>\n",
       "  <tbody>\n",
       "    <tr>\n",
       "      <th>P</th>\n",
       "      <td>28.0</td>\n",
       "      <td>55.0</td>\n",
       "      <td>1.0</td>\n",
       "      <td>47.139331</td>\n",
       "      <td>41.136753</td>\n",
       "      <td>58.686999</td>\n",
       "      <td>NaN</td>\n",
       "      <td>NaN</td>\n",
       "      <td>NaN</td>\n",
       "      <td>NaN</td>\n",
       "      <td>NaN</td>\n",
       "      <td>NaN</td>\n",
       "    </tr>\n",
       "    <tr>\n",
       "      <th>Q</th>\n",
       "      <td>28.0</td>\n",
       "      <td>10.0</td>\n",
       "      <td>66.0</td>\n",
       "      <td>47.930375</td>\n",
       "      <td>50.032490</td>\n",
       "      <td>51.646346</td>\n",
       "      <td>NaN</td>\n",
       "      <td>NaN</td>\n",
       "      <td>NaN</td>\n",
       "      <td>NaN</td>\n",
       "      <td>NaN</td>\n",
       "      <td>NaN</td>\n",
       "    </tr>\n",
       "    <tr>\n",
       "      <th>R</th>\n",
       "      <td>41.0</td>\n",
       "      <td>14.0</td>\n",
       "      <td>10.0</td>\n",
       "      <td>57.714760</td>\n",
       "      <td>57.777659</td>\n",
       "      <td>52.210836</td>\n",
       "      <td>NaN</td>\n",
       "      <td>NaN</td>\n",
       "      <td>NaN</td>\n",
       "      <td>NaN</td>\n",
       "      <td>NaN</td>\n",
       "      <td>NaN</td>\n",
       "    </tr>\n",
       "    <tr>\n",
       "      <th>S</th>\n",
       "      <td>92.0</td>\n",
       "      <td>72.0</td>\n",
       "      <td>72.0</td>\n",
       "      <td>57.780214</td>\n",
       "      <td>53.252934</td>\n",
       "      <td>41.777948</td>\n",
       "      <td>NaN</td>\n",
       "      <td>NaN</td>\n",
       "      <td>NaN</td>\n",
       "      <td>NaN</td>\n",
       "      <td>NaN</td>\n",
       "      <td>NaN</td>\n",
       "    </tr>\n",
       "    <tr>\n",
       "      <th>A</th>\n",
       "      <td>NaN</td>\n",
       "      <td>NaN</td>\n",
       "      <td>NaN</td>\n",
       "      <td>NaN</td>\n",
       "      <td>NaN</td>\n",
       "      <td>NaN</td>\n",
       "      <td>0.0</td>\n",
       "      <td>1.0</td>\n",
       "      <td>2.0</td>\n",
       "      <td>3.0</td>\n",
       "      <td>4.0</td>\n",
       "      <td>5.0</td>\n",
       "    </tr>\n",
       "    <tr>\n",
       "      <th>B</th>\n",
       "      <td>NaN</td>\n",
       "      <td>NaN</td>\n",
       "      <td>NaN</td>\n",
       "      <td>NaN</td>\n",
       "      <td>NaN</td>\n",
       "      <td>NaN</td>\n",
       "      <td>6.0</td>\n",
       "      <td>7.0</td>\n",
       "      <td>8.0</td>\n",
       "      <td>9.0</td>\n",
       "      <td>10.0</td>\n",
       "      <td>11.0</td>\n",
       "    </tr>\n",
       "    <tr>\n",
       "      <th>C</th>\n",
       "      <td>NaN</td>\n",
       "      <td>NaN</td>\n",
       "      <td>NaN</td>\n",
       "      <td>NaN</td>\n",
       "      <td>NaN</td>\n",
       "      <td>NaN</td>\n",
       "      <td>12.0</td>\n",
       "      <td>13.0</td>\n",
       "      <td>14.0</td>\n",
       "      <td>15.0</td>\n",
       "      <td>16.0</td>\n",
       "      <td>17.0</td>\n",
       "    </tr>\n",
       "    <tr>\n",
       "      <th>D</th>\n",
       "      <td>NaN</td>\n",
       "      <td>NaN</td>\n",
       "      <td>NaN</td>\n",
       "      <td>NaN</td>\n",
       "      <td>NaN</td>\n",
       "      <td>NaN</td>\n",
       "      <td>18.0</td>\n",
       "      <td>19.0</td>\n",
       "      <td>20.0</td>\n",
       "      <td>21.0</td>\n",
       "      <td>22.0</td>\n",
       "      <td>23.0</td>\n",
       "    </tr>\n",
       "  </tbody>\n",
       "</table>\n",
       "</div>"
      ],
      "text/plain": [
       "   col_0  col_1  col_2      col_3      col_4      col_5  col_0  col_1  col_2  \\\n",
       "P   28.0   55.0    1.0  47.139331  41.136753  58.686999    NaN    NaN    NaN   \n",
       "Q   28.0   10.0   66.0  47.930375  50.032490  51.646346    NaN    NaN    NaN   \n",
       "R   41.0   14.0   10.0  57.714760  57.777659  52.210836    NaN    NaN    NaN   \n",
       "S   92.0   72.0   72.0  57.780214  53.252934  41.777948    NaN    NaN    NaN   \n",
       "A    NaN    NaN    NaN        NaN        NaN        NaN    0.0    1.0    2.0   \n",
       "B    NaN    NaN    NaN        NaN        NaN        NaN    6.0    7.0    8.0   \n",
       "C    NaN    NaN    NaN        NaN        NaN        NaN   12.0   13.0   14.0   \n",
       "D    NaN    NaN    NaN        NaN        NaN        NaN   18.0   19.0   20.0   \n",
       "\n",
       "   col_3  col_4  col_5  \n",
       "P    NaN    NaN    NaN  \n",
       "Q    NaN    NaN    NaN  \n",
       "R    NaN    NaN    NaN  \n",
       "S    NaN    NaN    NaN  \n",
       "A    3.0    4.0    5.0  \n",
       "B    9.0   10.0   11.0  \n",
       "C   15.0   16.0   17.0  \n",
       "D   21.0   22.0   23.0  "
      ]
     },
     "execution_count": 24,
     "metadata": {},
     "output_type": "execute_result"
    }
   ],
   "source": [
    "# 実行して表示\n",
    "pd.concat([df1, df2], axis=1)"
   ]
  },
  {
   "cell_type": "markdown",
   "id": "5a7f657f",
   "metadata": {},
   "source": [
    "Exercise_7: exercise_2のarr_intとarr_uniをnp.concatenateとは別のメソッドで縦方向、横方向に結合してください。"
   ]
  },
  {
   "cell_type": "code",
   "execution_count": 25,
   "id": "49325506",
   "metadata": {},
   "outputs": [],
   "source": [
    "# 縦方向\n",
    "arr_v = np.vstack([arr_int, arr_uni])"
   ]
  },
  {
   "cell_type": "markdown",
   "id": "9f4e19ab",
   "metadata": {},
   "source": [
    "<details>\n",
    "    <summary><font color='red'>解答はここをクリック</font></summary>\n",
    "    <code>arr_v = np.vstack([arr_int, arr_uni])</code>\n",
    "</details>"
   ]
  },
  {
   "cell_type": "code",
   "execution_count": 26,
   "id": "1f9bd921",
   "metadata": {},
   "outputs": [
    {
     "data": {
      "text/plain": [
       "array([[28.        , 55.        ,  1.        ],\n",
       "       [28.        , 10.        , 66.        ],\n",
       "       [41.        , 14.        , 10.        ],\n",
       "       [92.        , 72.        , 72.        ],\n",
       "       [47.13933107, 41.13675253, 58.68699882],\n",
       "       [47.93037516, 50.03248952, 51.6463459 ],\n",
       "       [57.71476045, 57.77765935, 52.21083614],\n",
       "       [57.78021433, 53.25293387, 41.77794803]])"
      ]
     },
     "execution_count": 26,
     "metadata": {},
     "output_type": "execute_result"
    }
   ],
   "source": [
    "# 実行して表示\n",
    "arr_v"
   ]
  },
  {
   "cell_type": "code",
   "execution_count": 27,
   "id": "c8e9021c",
   "metadata": {
    "scrolled": true
   },
   "outputs": [],
   "source": [
    "# 横方向\n",
    "arr_h = np.hstack([arr_int, arr_uni])"
   ]
  },
  {
   "cell_type": "markdown",
   "id": "138e4610",
   "metadata": {},
   "source": [
    "<details>\n",
    "    <summary><font color='red'>解答はここをクリック</font></summary>\n",
    "    <code>arr_h = np.hstack([arr_int, arr_uni])</code>\n",
    "</details>"
   ]
  },
  {
   "cell_type": "code",
   "execution_count": 28,
   "id": "b2278036",
   "metadata": {},
   "outputs": [
    {
     "data": {
      "text/plain": [
       "array([[28.        , 55.        ,  1.        , 47.13933107, 41.13675253,\n",
       "        58.68699882],\n",
       "       [28.        , 10.        , 66.        , 47.93037516, 50.03248952,\n",
       "        51.6463459 ],\n",
       "       [41.        , 14.        , 10.        , 57.71476045, 57.77765935,\n",
       "        52.21083614],\n",
       "       [92.        , 72.        , 72.        , 57.78021433, 53.25293387,\n",
       "        41.77794803]])"
      ]
     },
     "execution_count": 28,
     "metadata": {},
     "output_type": "execute_result"
    }
   ],
   "source": [
    "# 実行して表示\n",
    "arr_h"
   ]
  },
  {
   "cell_type": "markdown",
   "id": "9a5af0b4",
   "metadata": {},
   "source": [
    "Exercise_8 : df の index count, column, non-null count, dtype などのInformation一覧を表示してください"
   ]
  },
  {
   "cell_type": "code",
   "execution_count": 29,
   "id": "06cc2179",
   "metadata": {},
   "outputs": [
    {
     "name": "stdout",
     "output_type": "stream",
     "text": [
      "<class 'pandas.core.frame.DataFrame'>\n",
      "Index: 8 entries, P to D\n",
      "Data columns (total 6 columns):\n",
      " #   Column  Non-Null Count  Dtype  \n",
      "---  ------  --------------  -----  \n",
      " 0   col_0   8 non-null      float64\n",
      " 1   col_1   8 non-null      float64\n",
      " 2   col_2   8 non-null      float64\n",
      " 3   col_3   8 non-null      float64\n",
      " 4   col_4   8 non-null      float64\n",
      " 5   col_5   8 non-null      float64\n",
      "dtypes: float64(6)\n",
      "memory usage: 448.0+ bytes\n"
     ]
    }
   ],
   "source": [
    "df.info()"
   ]
  },
  {
   "cell_type": "markdown",
   "id": "cc38cc18",
   "metadata": {},
   "source": [
    "<details>\n",
    "    <summary><font color='red'>解答はここをクリック</font></summary>\n",
    "    <code>df.info()</code>\n",
    "</details>"
   ]
  },
  {
   "cell_type": "markdown",
   "id": "a199d105",
   "metadata": {},
   "source": [
    "Exercise_9: dfの列毎の数値の合計、行毎の数値の合計を表示してください"
   ]
  },
  {
   "cell_type": "code",
   "execution_count": 30,
   "id": "ee3f64ca",
   "metadata": {},
   "outputs": [
    {
     "data": {
      "text/plain": [
       "col_0    225.000000\n",
       "col_1    191.000000\n",
       "col_2    193.000000\n",
       "col_3    258.564681\n",
       "col_4    254.199835\n",
       "col_5    260.322129\n",
       "dtype: float64"
      ]
     },
     "execution_count": 30,
     "metadata": {},
     "output_type": "execute_result"
    }
   ],
   "source": [
    "# 列\n",
    "df.sum()"
   ]
  },
  {
   "cell_type": "markdown",
   "id": "5e307968",
   "metadata": {},
   "source": [
    "<details>\n",
    "    <summary><font color='red'>解答はここをクリック</font></summary>\n",
    "    <code>df.sum()</code>\n",
    "</details>"
   ]
  },
  {
   "cell_type": "code",
   "execution_count": 31,
   "id": "82bbe7a7",
   "metadata": {},
   "outputs": [
    {
     "data": {
      "text/plain": [
       "P    230.963082\n",
       "Q    253.609211\n",
       "R    232.703256\n",
       "S    388.811096\n",
       "A     15.000000\n",
       "B     51.000000\n",
       "C     87.000000\n",
       "D    123.000000\n",
       "dtype: float64"
      ]
     },
     "execution_count": 31,
     "metadata": {},
     "output_type": "execute_result"
    }
   ],
   "source": [
    "# 行\n",
    "df.sum(axis=1)"
   ]
  },
  {
   "cell_type": "markdown",
   "id": "07345bd0",
   "metadata": {},
   "source": [
    "<details>\n",
    "    <summary><font color='red'>解答はここをクリック</font></summary>\n",
    "    <code>df.sum(axis=1)</code>\n",
    "</details>"
   ]
  },
  {
   "cell_type": "markdown",
   "id": "df7c609f",
   "metadata": {},
   "source": [
    "Exercise_10: dfの先頭3行を表示してください。またdfをシャッフルし（df_shuffled）、その末尾の3行を表示してください。"
   ]
  },
  {
   "cell_type": "code",
   "execution_count": 32,
   "id": "b2b48e32",
   "metadata": {},
   "outputs": [
    {
     "data": {
      "text/html": [
       "<div>\n",
       "<style scoped>\n",
       "    .dataframe tbody tr th:only-of-type {\n",
       "        vertical-align: middle;\n",
       "    }\n",
       "\n",
       "    .dataframe tbody tr th {\n",
       "        vertical-align: top;\n",
       "    }\n",
       "\n",
       "    .dataframe thead th {\n",
       "        text-align: right;\n",
       "    }\n",
       "</style>\n",
       "<table border=\"1\" class=\"dataframe\">\n",
       "  <thead>\n",
       "    <tr style=\"text-align: right;\">\n",
       "      <th></th>\n",
       "      <th>col_0</th>\n",
       "      <th>col_1</th>\n",
       "      <th>col_2</th>\n",
       "      <th>col_3</th>\n",
       "      <th>col_4</th>\n",
       "      <th>col_5</th>\n",
       "    </tr>\n",
       "  </thead>\n",
       "  <tbody>\n",
       "    <tr>\n",
       "      <th>P</th>\n",
       "      <td>28.0</td>\n",
       "      <td>55.0</td>\n",
       "      <td>1.0</td>\n",
       "      <td>47.139331</td>\n",
       "      <td>41.136753</td>\n",
       "      <td>58.686999</td>\n",
       "    </tr>\n",
       "    <tr>\n",
       "      <th>Q</th>\n",
       "      <td>28.0</td>\n",
       "      <td>10.0</td>\n",
       "      <td>66.0</td>\n",
       "      <td>47.930375</td>\n",
       "      <td>50.032490</td>\n",
       "      <td>51.646346</td>\n",
       "    </tr>\n",
       "    <tr>\n",
       "      <th>R</th>\n",
       "      <td>41.0</td>\n",
       "      <td>14.0</td>\n",
       "      <td>10.0</td>\n",
       "      <td>57.714760</td>\n",
       "      <td>57.777659</td>\n",
       "      <td>52.210836</td>\n",
       "    </tr>\n",
       "  </tbody>\n",
       "</table>\n",
       "</div>"
      ],
      "text/plain": [
       "   col_0  col_1  col_2      col_3      col_4      col_5\n",
       "P   28.0   55.0    1.0  47.139331  41.136753  58.686999\n",
       "Q   28.0   10.0   66.0  47.930375  50.032490  51.646346\n",
       "R   41.0   14.0   10.0  57.714760  57.777659  52.210836"
      ]
     },
     "execution_count": 32,
     "metadata": {},
     "output_type": "execute_result"
    }
   ],
   "source": [
    "# 先頭3行\n",
    "df.head(3)"
   ]
  },
  {
   "cell_type": "markdown",
   "id": "e428a1f0",
   "metadata": {},
   "source": [
    "<details>\n",
    "    <summary><font color='red'>解答はここをクリック</font></summary>\n",
    "    <code>df.head(3)</code>\n",
    "</details>"
   ]
  },
  {
   "cell_type": "code",
   "execution_count": 41,
   "id": "abfcadee",
   "metadata": {},
   "outputs": [],
   "source": [
    "df_shuffled = df.sample(frac=1)"
   ]
  },
  {
   "cell_type": "markdown",
   "id": "98ed83d6",
   "metadata": {},
   "source": [
    "<details>\n",
    "    <summary><font color='red'>解答はここをクリック</font></summary>\n",
    "    <code>df_shuffled = df.sample(frac=1)</code>\n",
    "</details>"
   ]
  },
  {
   "cell_type": "code",
   "execution_count": 42,
   "id": "89bf9682",
   "metadata": {},
   "outputs": [
    {
     "data": {
      "text/html": [
       "<div>\n",
       "<style scoped>\n",
       "    .dataframe tbody tr th:only-of-type {\n",
       "        vertical-align: middle;\n",
       "    }\n",
       "\n",
       "    .dataframe tbody tr th {\n",
       "        vertical-align: top;\n",
       "    }\n",
       "\n",
       "    .dataframe thead th {\n",
       "        text-align: right;\n",
       "    }\n",
       "</style>\n",
       "<table border=\"1\" class=\"dataframe\">\n",
       "  <thead>\n",
       "    <tr style=\"text-align: right;\">\n",
       "      <th></th>\n",
       "      <th>col_0</th>\n",
       "      <th>col_1</th>\n",
       "      <th>col_2</th>\n",
       "      <th>col_3</th>\n",
       "      <th>col_4</th>\n",
       "      <th>col_5</th>\n",
       "    </tr>\n",
       "  </thead>\n",
       "  <tbody>\n",
       "    <tr>\n",
       "      <th>Q</th>\n",
       "      <td>28.0</td>\n",
       "      <td>10.0</td>\n",
       "      <td>66.0</td>\n",
       "      <td>47.930375</td>\n",
       "      <td>50.03249</td>\n",
       "      <td>51.646346</td>\n",
       "    </tr>\n",
       "    <tr>\n",
       "      <th>C</th>\n",
       "      <td>12.0</td>\n",
       "      <td>13.0</td>\n",
       "      <td>14.0</td>\n",
       "      <td>15.000000</td>\n",
       "      <td>16.00000</td>\n",
       "      <td>17.000000</td>\n",
       "    </tr>\n",
       "    <tr>\n",
       "      <th>D</th>\n",
       "      <td>18.0</td>\n",
       "      <td>19.0</td>\n",
       "      <td>20.0</td>\n",
       "      <td>21.000000</td>\n",
       "      <td>22.00000</td>\n",
       "      <td>23.000000</td>\n",
       "    </tr>\n",
       "  </tbody>\n",
       "</table>\n",
       "</div>"
      ],
      "text/plain": [
       "   col_0  col_1  col_2      col_3     col_4      col_5\n",
       "Q   28.0   10.0   66.0  47.930375  50.03249  51.646346\n",
       "C   12.0   13.0   14.0  15.000000  16.00000  17.000000\n",
       "D   18.0   19.0   20.0  21.000000  22.00000  23.000000"
      ]
     },
     "execution_count": 42,
     "metadata": {},
     "output_type": "execute_result"
    }
   ],
   "source": [
    "df_shuffled.tail(3)"
   ]
  },
  {
   "cell_type": "markdown",
   "id": "1f4fb9fb",
   "metadata": {},
   "source": [
    "<details>\n",
    "    <summary><font color='red'>解答はここをクリック</font></summary>\n",
    "    <code>df_shuffled.tail(3)</code>\n",
    "</details>"
   ]
  },
  {
   "cell_type": "markdown",
   "id": "8abf28a2",
   "metadata": {},
   "source": [
    "Exercise_11 : df を 現在の index(A, B, ..., S) に対して降順に並べ替え（df.sort_index(inplace=True)）、index をリセットし0,1,2の通し番号に戻してくだださい。さらに新規にできるカラム'index' を 'class' に変更してください。"
   ]
  },
  {
   "cell_type": "code",
   "execution_count": 56,
   "id": "dd91cf3d",
   "metadata": {},
   "outputs": [
    {
     "data": {
      "text/html": [
       "<div>\n",
       "<style scoped>\n",
       "    .dataframe tbody tr th:only-of-type {\n",
       "        vertical-align: middle;\n",
       "    }\n",
       "\n",
       "    .dataframe tbody tr th {\n",
       "        vertical-align: top;\n",
       "    }\n",
       "\n",
       "    .dataframe thead th {\n",
       "        text-align: right;\n",
       "    }\n",
       "</style>\n",
       "<table border=\"1\" class=\"dataframe\">\n",
       "  <thead>\n",
       "    <tr style=\"text-align: right;\">\n",
       "      <th></th>\n",
       "      <th>col_0</th>\n",
       "      <th>col_1</th>\n",
       "      <th>col_2</th>\n",
       "      <th>col_3</th>\n",
       "      <th>col_4</th>\n",
       "      <th>col_5</th>\n",
       "    </tr>\n",
       "  </thead>\n",
       "  <tbody>\n",
       "    <tr>\n",
       "      <th>P</th>\n",
       "      <td>28.0</td>\n",
       "      <td>55.0</td>\n",
       "      <td>1.0</td>\n",
       "      <td>47.139331</td>\n",
       "      <td>41.136753</td>\n",
       "      <td>58.686999</td>\n",
       "    </tr>\n",
       "    <tr>\n",
       "      <th>Q</th>\n",
       "      <td>28.0</td>\n",
       "      <td>10.0</td>\n",
       "      <td>66.0</td>\n",
       "      <td>47.930375</td>\n",
       "      <td>50.032490</td>\n",
       "      <td>51.646346</td>\n",
       "    </tr>\n",
       "    <tr>\n",
       "      <th>R</th>\n",
       "      <td>41.0</td>\n",
       "      <td>14.0</td>\n",
       "      <td>10.0</td>\n",
       "      <td>57.714760</td>\n",
       "      <td>57.777659</td>\n",
       "      <td>52.210836</td>\n",
       "    </tr>\n",
       "    <tr>\n",
       "      <th>S</th>\n",
       "      <td>92.0</td>\n",
       "      <td>72.0</td>\n",
       "      <td>72.0</td>\n",
       "      <td>57.780214</td>\n",
       "      <td>53.252934</td>\n",
       "      <td>41.777948</td>\n",
       "    </tr>\n",
       "    <tr>\n",
       "      <th>A</th>\n",
       "      <td>0.0</td>\n",
       "      <td>1.0</td>\n",
       "      <td>2.0</td>\n",
       "      <td>3.000000</td>\n",
       "      <td>4.000000</td>\n",
       "      <td>5.000000</td>\n",
       "    </tr>\n",
       "    <tr>\n",
       "      <th>B</th>\n",
       "      <td>6.0</td>\n",
       "      <td>7.0</td>\n",
       "      <td>8.0</td>\n",
       "      <td>9.000000</td>\n",
       "      <td>10.000000</td>\n",
       "      <td>11.000000</td>\n",
       "    </tr>\n",
       "    <tr>\n",
       "      <th>C</th>\n",
       "      <td>12.0</td>\n",
       "      <td>13.0</td>\n",
       "      <td>14.0</td>\n",
       "      <td>15.000000</td>\n",
       "      <td>16.000000</td>\n",
       "      <td>17.000000</td>\n",
       "    </tr>\n",
       "    <tr>\n",
       "      <th>D</th>\n",
       "      <td>18.0</td>\n",
       "      <td>19.0</td>\n",
       "      <td>20.0</td>\n",
       "      <td>21.000000</td>\n",
       "      <td>22.000000</td>\n",
       "      <td>23.000000</td>\n",
       "    </tr>\n",
       "  </tbody>\n",
       "</table>\n",
       "</div>"
      ],
      "text/plain": [
       "   col_0  col_1  col_2      col_3      col_4      col_5\n",
       "P   28.0   55.0    1.0  47.139331  41.136753  58.686999\n",
       "Q   28.0   10.0   66.0  47.930375  50.032490  51.646346\n",
       "R   41.0   14.0   10.0  57.714760  57.777659  52.210836\n",
       "S   92.0   72.0   72.0  57.780214  53.252934  41.777948\n",
       "A    0.0    1.0    2.0   3.000000   4.000000   5.000000\n",
       "B    6.0    7.0    8.0   9.000000  10.000000  11.000000\n",
       "C   12.0   13.0   14.0  15.000000  16.000000  17.000000\n",
       "D   18.0   19.0   20.0  21.000000  22.000000  23.000000"
      ]
     },
     "execution_count": 56,
     "metadata": {},
     "output_type": "execute_result"
    }
   ],
   "source": [
    "# 実行して表示\n",
    "df"
   ]
  },
  {
   "cell_type": "code",
   "execution_count": 57,
   "id": "dc9bd913",
   "metadata": {},
   "outputs": [],
   "source": [
    "# 並べ替えのみ。（コース内での紹介はありませんでした）\n",
    "df.sort_index(ascending=False, inplace=True)"
   ]
  },
  {
   "cell_type": "markdown",
   "id": "3b162597",
   "metadata": {},
   "source": [
    "<details>\n",
    "    <summary><font color='red'>解答はここをクリック</font></summary>\n",
    "    <code>df.sort_index(inplace=True)</code>\n",
    "</details>"
   ]
  },
  {
   "cell_type": "code",
   "execution_count": 58,
   "id": "4aaf911d",
   "metadata": {
    "scrolled": true
   },
   "outputs": [
    {
     "data": {
      "text/html": [
       "<div>\n",
       "<style scoped>\n",
       "    .dataframe tbody tr th:only-of-type {\n",
       "        vertical-align: middle;\n",
       "    }\n",
       "\n",
       "    .dataframe tbody tr th {\n",
       "        vertical-align: top;\n",
       "    }\n",
       "\n",
       "    .dataframe thead th {\n",
       "        text-align: right;\n",
       "    }\n",
       "</style>\n",
       "<table border=\"1\" class=\"dataframe\">\n",
       "  <thead>\n",
       "    <tr style=\"text-align: right;\">\n",
       "      <th></th>\n",
       "      <th>col_0</th>\n",
       "      <th>col_1</th>\n",
       "      <th>col_2</th>\n",
       "      <th>col_3</th>\n",
       "      <th>col_4</th>\n",
       "      <th>col_5</th>\n",
       "    </tr>\n",
       "  </thead>\n",
       "  <tbody>\n",
       "    <tr>\n",
       "      <th>S</th>\n",
       "      <td>92.0</td>\n",
       "      <td>72.0</td>\n",
       "      <td>72.0</td>\n",
       "      <td>57.780214</td>\n",
       "      <td>53.252934</td>\n",
       "      <td>41.777948</td>\n",
       "    </tr>\n",
       "    <tr>\n",
       "      <th>R</th>\n",
       "      <td>41.0</td>\n",
       "      <td>14.0</td>\n",
       "      <td>10.0</td>\n",
       "      <td>57.714760</td>\n",
       "      <td>57.777659</td>\n",
       "      <td>52.210836</td>\n",
       "    </tr>\n",
       "    <tr>\n",
       "      <th>Q</th>\n",
       "      <td>28.0</td>\n",
       "      <td>10.0</td>\n",
       "      <td>66.0</td>\n",
       "      <td>47.930375</td>\n",
       "      <td>50.032490</td>\n",
       "      <td>51.646346</td>\n",
       "    </tr>\n",
       "    <tr>\n",
       "      <th>P</th>\n",
       "      <td>28.0</td>\n",
       "      <td>55.0</td>\n",
       "      <td>1.0</td>\n",
       "      <td>47.139331</td>\n",
       "      <td>41.136753</td>\n",
       "      <td>58.686999</td>\n",
       "    </tr>\n",
       "    <tr>\n",
       "      <th>D</th>\n",
       "      <td>18.0</td>\n",
       "      <td>19.0</td>\n",
       "      <td>20.0</td>\n",
       "      <td>21.000000</td>\n",
       "      <td>22.000000</td>\n",
       "      <td>23.000000</td>\n",
       "    </tr>\n",
       "    <tr>\n",
       "      <th>C</th>\n",
       "      <td>12.0</td>\n",
       "      <td>13.0</td>\n",
       "      <td>14.0</td>\n",
       "      <td>15.000000</td>\n",
       "      <td>16.000000</td>\n",
       "      <td>17.000000</td>\n",
       "    </tr>\n",
       "    <tr>\n",
       "      <th>B</th>\n",
       "      <td>6.0</td>\n",
       "      <td>7.0</td>\n",
       "      <td>8.0</td>\n",
       "      <td>9.000000</td>\n",
       "      <td>10.000000</td>\n",
       "      <td>11.000000</td>\n",
       "    </tr>\n",
       "    <tr>\n",
       "      <th>A</th>\n",
       "      <td>0.0</td>\n",
       "      <td>1.0</td>\n",
       "      <td>2.0</td>\n",
       "      <td>3.000000</td>\n",
       "      <td>4.000000</td>\n",
       "      <td>5.000000</td>\n",
       "    </tr>\n",
       "  </tbody>\n",
       "</table>\n",
       "</div>"
      ],
      "text/plain": [
       "   col_0  col_1  col_2      col_3      col_4      col_5\n",
       "S   92.0   72.0   72.0  57.780214  53.252934  41.777948\n",
       "R   41.0   14.0   10.0  57.714760  57.777659  52.210836\n",
       "Q   28.0   10.0   66.0  47.930375  50.032490  51.646346\n",
       "P   28.0   55.0    1.0  47.139331  41.136753  58.686999\n",
       "D   18.0   19.0   20.0  21.000000  22.000000  23.000000\n",
       "C   12.0   13.0   14.0  15.000000  16.000000  17.000000\n",
       "B    6.0    7.0    8.0   9.000000  10.000000  11.000000\n",
       "A    0.0    1.0    2.0   3.000000   4.000000   5.000000"
      ]
     },
     "execution_count": 58,
     "metadata": {},
     "output_type": "execute_result"
    }
   ],
   "source": [
    "# 実行して表示\n",
    "df"
   ]
  },
  {
   "cell_type": "code",
   "execution_count": 59,
   "id": "6a022474",
   "metadata": {},
   "outputs": [],
   "source": [
    "# indexをリセット\n",
    "df.reset_index(inplace=True)"
   ]
  },
  {
   "cell_type": "markdown",
   "id": "ceed3914",
   "metadata": {},
   "source": [
    "<details>\n",
    "    <summary><font color='red'>解答はここをクリック</font></summary>\n",
    "    <code>df.reset_index(inplace=True)</code>\n",
    "</details>"
   ]
  },
  {
   "cell_type": "code",
   "execution_count": 60,
   "id": "5de72b45",
   "metadata": {
    "scrolled": false
   },
   "outputs": [
    {
     "data": {
      "text/html": [
       "<div>\n",
       "<style scoped>\n",
       "    .dataframe tbody tr th:only-of-type {\n",
       "        vertical-align: middle;\n",
       "    }\n",
       "\n",
       "    .dataframe tbody tr th {\n",
       "        vertical-align: top;\n",
       "    }\n",
       "\n",
       "    .dataframe thead th {\n",
       "        text-align: right;\n",
       "    }\n",
       "</style>\n",
       "<table border=\"1\" class=\"dataframe\">\n",
       "  <thead>\n",
       "    <tr style=\"text-align: right;\">\n",
       "      <th></th>\n",
       "      <th>index</th>\n",
       "      <th>col_0</th>\n",
       "      <th>col_1</th>\n",
       "      <th>col_2</th>\n",
       "      <th>col_3</th>\n",
       "      <th>col_4</th>\n",
       "      <th>col_5</th>\n",
       "    </tr>\n",
       "  </thead>\n",
       "  <tbody>\n",
       "    <tr>\n",
       "      <th>0</th>\n",
       "      <td>S</td>\n",
       "      <td>92.0</td>\n",
       "      <td>72.0</td>\n",
       "      <td>72.0</td>\n",
       "      <td>57.780214</td>\n",
       "      <td>53.252934</td>\n",
       "      <td>41.777948</td>\n",
       "    </tr>\n",
       "    <tr>\n",
       "      <th>1</th>\n",
       "      <td>R</td>\n",
       "      <td>41.0</td>\n",
       "      <td>14.0</td>\n",
       "      <td>10.0</td>\n",
       "      <td>57.714760</td>\n",
       "      <td>57.777659</td>\n",
       "      <td>52.210836</td>\n",
       "    </tr>\n",
       "    <tr>\n",
       "      <th>2</th>\n",
       "      <td>Q</td>\n",
       "      <td>28.0</td>\n",
       "      <td>10.0</td>\n",
       "      <td>66.0</td>\n",
       "      <td>47.930375</td>\n",
       "      <td>50.032490</td>\n",
       "      <td>51.646346</td>\n",
       "    </tr>\n",
       "    <tr>\n",
       "      <th>3</th>\n",
       "      <td>P</td>\n",
       "      <td>28.0</td>\n",
       "      <td>55.0</td>\n",
       "      <td>1.0</td>\n",
       "      <td>47.139331</td>\n",
       "      <td>41.136753</td>\n",
       "      <td>58.686999</td>\n",
       "    </tr>\n",
       "    <tr>\n",
       "      <th>4</th>\n",
       "      <td>D</td>\n",
       "      <td>18.0</td>\n",
       "      <td>19.0</td>\n",
       "      <td>20.0</td>\n",
       "      <td>21.000000</td>\n",
       "      <td>22.000000</td>\n",
       "      <td>23.000000</td>\n",
       "    </tr>\n",
       "    <tr>\n",
       "      <th>5</th>\n",
       "      <td>C</td>\n",
       "      <td>12.0</td>\n",
       "      <td>13.0</td>\n",
       "      <td>14.0</td>\n",
       "      <td>15.000000</td>\n",
       "      <td>16.000000</td>\n",
       "      <td>17.000000</td>\n",
       "    </tr>\n",
       "    <tr>\n",
       "      <th>6</th>\n",
       "      <td>B</td>\n",
       "      <td>6.0</td>\n",
       "      <td>7.0</td>\n",
       "      <td>8.0</td>\n",
       "      <td>9.000000</td>\n",
       "      <td>10.000000</td>\n",
       "      <td>11.000000</td>\n",
       "    </tr>\n",
       "    <tr>\n",
       "      <th>7</th>\n",
       "      <td>A</td>\n",
       "      <td>0.0</td>\n",
       "      <td>1.0</td>\n",
       "      <td>2.0</td>\n",
       "      <td>3.000000</td>\n",
       "      <td>4.000000</td>\n",
       "      <td>5.000000</td>\n",
       "    </tr>\n",
       "  </tbody>\n",
       "</table>\n",
       "</div>"
      ],
      "text/plain": [
       "  index  col_0  col_1  col_2      col_3      col_4      col_5\n",
       "0     S   92.0   72.0   72.0  57.780214  53.252934  41.777948\n",
       "1     R   41.0   14.0   10.0  57.714760  57.777659  52.210836\n",
       "2     Q   28.0   10.0   66.0  47.930375  50.032490  51.646346\n",
       "3     P   28.0   55.0    1.0  47.139331  41.136753  58.686999\n",
       "4     D   18.0   19.0   20.0  21.000000  22.000000  23.000000\n",
       "5     C   12.0   13.0   14.0  15.000000  16.000000  17.000000\n",
       "6     B    6.0    7.0    8.0   9.000000  10.000000  11.000000\n",
       "7     A    0.0    1.0    2.0   3.000000   4.000000   5.000000"
      ]
     },
     "execution_count": 60,
     "metadata": {},
     "output_type": "execute_result"
    }
   ],
   "source": [
    "# 実行して表示\n",
    "df"
   ]
  },
  {
   "cell_type": "code",
   "execution_count": 61,
   "id": "7c852d4e",
   "metadata": {},
   "outputs": [],
   "source": [
    "# column名を変更\n",
    "df.rename(columns={'index': 'class'}, inplace=True)"
   ]
  },
  {
   "cell_type": "markdown",
   "id": "12c15586",
   "metadata": {},
   "source": [
    "<details>\n",
    "    <summary><font color='red'>解答はここをクリック</font></summary>\n",
    "    <code>df.rename(columns={'index':'class'}, inplace=True)</code>\n",
    "</details>"
   ]
  },
  {
   "cell_type": "code",
   "execution_count": 62,
   "id": "08c9989f",
   "metadata": {
    "scrolled": false
   },
   "outputs": [
    {
     "data": {
      "text/html": [
       "<div>\n",
       "<style scoped>\n",
       "    .dataframe tbody tr th:only-of-type {\n",
       "        vertical-align: middle;\n",
       "    }\n",
       "\n",
       "    .dataframe tbody tr th {\n",
       "        vertical-align: top;\n",
       "    }\n",
       "\n",
       "    .dataframe thead th {\n",
       "        text-align: right;\n",
       "    }\n",
       "</style>\n",
       "<table border=\"1\" class=\"dataframe\">\n",
       "  <thead>\n",
       "    <tr style=\"text-align: right;\">\n",
       "      <th></th>\n",
       "      <th>class</th>\n",
       "      <th>col_0</th>\n",
       "      <th>col_1</th>\n",
       "      <th>col_2</th>\n",
       "      <th>col_3</th>\n",
       "      <th>col_4</th>\n",
       "      <th>col_5</th>\n",
       "    </tr>\n",
       "  </thead>\n",
       "  <tbody>\n",
       "    <tr>\n",
       "      <th>0</th>\n",
       "      <td>S</td>\n",
       "      <td>92.0</td>\n",
       "      <td>72.0</td>\n",
       "      <td>72.0</td>\n",
       "      <td>57.780214</td>\n",
       "      <td>53.252934</td>\n",
       "      <td>41.777948</td>\n",
       "    </tr>\n",
       "    <tr>\n",
       "      <th>1</th>\n",
       "      <td>R</td>\n",
       "      <td>41.0</td>\n",
       "      <td>14.0</td>\n",
       "      <td>10.0</td>\n",
       "      <td>57.714760</td>\n",
       "      <td>57.777659</td>\n",
       "      <td>52.210836</td>\n",
       "    </tr>\n",
       "    <tr>\n",
       "      <th>2</th>\n",
       "      <td>Q</td>\n",
       "      <td>28.0</td>\n",
       "      <td>10.0</td>\n",
       "      <td>66.0</td>\n",
       "      <td>47.930375</td>\n",
       "      <td>50.032490</td>\n",
       "      <td>51.646346</td>\n",
       "    </tr>\n",
       "    <tr>\n",
       "      <th>3</th>\n",
       "      <td>P</td>\n",
       "      <td>28.0</td>\n",
       "      <td>55.0</td>\n",
       "      <td>1.0</td>\n",
       "      <td>47.139331</td>\n",
       "      <td>41.136753</td>\n",
       "      <td>58.686999</td>\n",
       "    </tr>\n",
       "    <tr>\n",
       "      <th>4</th>\n",
       "      <td>D</td>\n",
       "      <td>18.0</td>\n",
       "      <td>19.0</td>\n",
       "      <td>20.0</td>\n",
       "      <td>21.000000</td>\n",
       "      <td>22.000000</td>\n",
       "      <td>23.000000</td>\n",
       "    </tr>\n",
       "    <tr>\n",
       "      <th>5</th>\n",
       "      <td>C</td>\n",
       "      <td>12.0</td>\n",
       "      <td>13.0</td>\n",
       "      <td>14.0</td>\n",
       "      <td>15.000000</td>\n",
       "      <td>16.000000</td>\n",
       "      <td>17.000000</td>\n",
       "    </tr>\n",
       "    <tr>\n",
       "      <th>6</th>\n",
       "      <td>B</td>\n",
       "      <td>6.0</td>\n",
       "      <td>7.0</td>\n",
       "      <td>8.0</td>\n",
       "      <td>9.000000</td>\n",
       "      <td>10.000000</td>\n",
       "      <td>11.000000</td>\n",
       "    </tr>\n",
       "    <tr>\n",
       "      <th>7</th>\n",
       "      <td>A</td>\n",
       "      <td>0.0</td>\n",
       "      <td>1.0</td>\n",
       "      <td>2.0</td>\n",
       "      <td>3.000000</td>\n",
       "      <td>4.000000</td>\n",
       "      <td>5.000000</td>\n",
       "    </tr>\n",
       "  </tbody>\n",
       "</table>\n",
       "</div>"
      ],
      "text/plain": [
       "  class  col_0  col_1  col_2      col_3      col_4      col_5\n",
       "0     S   92.0   72.0   72.0  57.780214  53.252934  41.777948\n",
       "1     R   41.0   14.0   10.0  57.714760  57.777659  52.210836\n",
       "2     Q   28.0   10.0   66.0  47.930375  50.032490  51.646346\n",
       "3     P   28.0   55.0    1.0  47.139331  41.136753  58.686999\n",
       "4     D   18.0   19.0   20.0  21.000000  22.000000  23.000000\n",
       "5     C   12.0   13.0   14.0  15.000000  16.000000  17.000000\n",
       "6     B    6.0    7.0    8.0   9.000000  10.000000  11.000000\n",
       "7     A    0.0    1.0    2.0   3.000000   4.000000   5.000000"
      ]
     },
     "execution_count": 62,
     "metadata": {},
     "output_type": "execute_result"
    }
   ],
   "source": [
    "# 実行して表示\n",
    "df"
   ]
  },
  {
   "cell_type": "markdown",
   "id": "fecd4384",
   "metadata": {},
   "source": [
    "Exercise_12 : dfの各カラム名の末尾に'*'の文字列を付加したデータフレーム（df_star）を作成してください"
   ]
  },
  {
   "cell_type": "code",
   "execution_count": 63,
   "id": "4b45b842",
   "metadata": {},
   "outputs": [],
   "source": [
    "df_star = df.add_suffix('*')"
   ]
  },
  {
   "cell_type": "markdown",
   "id": "a8410120",
   "metadata": {},
   "source": [
    "<details>\n",
    "    <summary><font color='red'>解答はここをクリック</font></summary>\n",
    "    <code>df_star = df.add_suffix('*')</code>\n",
    "</details>"
   ]
  },
  {
   "cell_type": "code",
   "execution_count": 64,
   "id": "2374d1a7",
   "metadata": {},
   "outputs": [
    {
     "data": {
      "text/html": [
       "<div>\n",
       "<style scoped>\n",
       "    .dataframe tbody tr th:only-of-type {\n",
       "        vertical-align: middle;\n",
       "    }\n",
       "\n",
       "    .dataframe tbody tr th {\n",
       "        vertical-align: top;\n",
       "    }\n",
       "\n",
       "    .dataframe thead th {\n",
       "        text-align: right;\n",
       "    }\n",
       "</style>\n",
       "<table border=\"1\" class=\"dataframe\">\n",
       "  <thead>\n",
       "    <tr style=\"text-align: right;\">\n",
       "      <th></th>\n",
       "      <th>class*</th>\n",
       "      <th>col_0*</th>\n",
       "      <th>col_1*</th>\n",
       "      <th>col_2*</th>\n",
       "      <th>col_3*</th>\n",
       "      <th>col_4*</th>\n",
       "      <th>col_5*</th>\n",
       "    </tr>\n",
       "  </thead>\n",
       "  <tbody>\n",
       "    <tr>\n",
       "      <th>0</th>\n",
       "      <td>S</td>\n",
       "      <td>92.0</td>\n",
       "      <td>72.0</td>\n",
       "      <td>72.0</td>\n",
       "      <td>57.780214</td>\n",
       "      <td>53.252934</td>\n",
       "      <td>41.777948</td>\n",
       "    </tr>\n",
       "    <tr>\n",
       "      <th>1</th>\n",
       "      <td>R</td>\n",
       "      <td>41.0</td>\n",
       "      <td>14.0</td>\n",
       "      <td>10.0</td>\n",
       "      <td>57.714760</td>\n",
       "      <td>57.777659</td>\n",
       "      <td>52.210836</td>\n",
       "    </tr>\n",
       "    <tr>\n",
       "      <th>2</th>\n",
       "      <td>Q</td>\n",
       "      <td>28.0</td>\n",
       "      <td>10.0</td>\n",
       "      <td>66.0</td>\n",
       "      <td>47.930375</td>\n",
       "      <td>50.032490</td>\n",
       "      <td>51.646346</td>\n",
       "    </tr>\n",
       "    <tr>\n",
       "      <th>3</th>\n",
       "      <td>P</td>\n",
       "      <td>28.0</td>\n",
       "      <td>55.0</td>\n",
       "      <td>1.0</td>\n",
       "      <td>47.139331</td>\n",
       "      <td>41.136753</td>\n",
       "      <td>58.686999</td>\n",
       "    </tr>\n",
       "    <tr>\n",
       "      <th>4</th>\n",
       "      <td>D</td>\n",
       "      <td>18.0</td>\n",
       "      <td>19.0</td>\n",
       "      <td>20.0</td>\n",
       "      <td>21.000000</td>\n",
       "      <td>22.000000</td>\n",
       "      <td>23.000000</td>\n",
       "    </tr>\n",
       "    <tr>\n",
       "      <th>5</th>\n",
       "      <td>C</td>\n",
       "      <td>12.0</td>\n",
       "      <td>13.0</td>\n",
       "      <td>14.0</td>\n",
       "      <td>15.000000</td>\n",
       "      <td>16.000000</td>\n",
       "      <td>17.000000</td>\n",
       "    </tr>\n",
       "    <tr>\n",
       "      <th>6</th>\n",
       "      <td>B</td>\n",
       "      <td>6.0</td>\n",
       "      <td>7.0</td>\n",
       "      <td>8.0</td>\n",
       "      <td>9.000000</td>\n",
       "      <td>10.000000</td>\n",
       "      <td>11.000000</td>\n",
       "    </tr>\n",
       "    <tr>\n",
       "      <th>7</th>\n",
       "      <td>A</td>\n",
       "      <td>0.0</td>\n",
       "      <td>1.0</td>\n",
       "      <td>2.0</td>\n",
       "      <td>3.000000</td>\n",
       "      <td>4.000000</td>\n",
       "      <td>5.000000</td>\n",
       "    </tr>\n",
       "  </tbody>\n",
       "</table>\n",
       "</div>"
      ],
      "text/plain": [
       "  class*  col_0*  col_1*  col_2*     col_3*     col_4*     col_5*\n",
       "0      S    92.0    72.0    72.0  57.780214  53.252934  41.777948\n",
       "1      R    41.0    14.0    10.0  57.714760  57.777659  52.210836\n",
       "2      Q    28.0    10.0    66.0  47.930375  50.032490  51.646346\n",
       "3      P    28.0    55.0     1.0  47.139331  41.136753  58.686999\n",
       "4      D    18.0    19.0    20.0  21.000000  22.000000  23.000000\n",
       "5      C    12.0    13.0    14.0  15.000000  16.000000  17.000000\n",
       "6      B     6.0     7.0     8.0   9.000000  10.000000  11.000000\n",
       "7      A     0.0     1.0     2.0   3.000000   4.000000   5.000000"
      ]
     },
     "execution_count": 64,
     "metadata": {},
     "output_type": "execute_result"
    }
   ],
   "source": [
    "# 実行して表示\n",
    "df_star"
   ]
  },
  {
   "cell_type": "markdown",
   "id": "1633eafb",
   "metadata": {},
   "source": [
    "Exercise_13 : dfのレコード（サンプル）ごとの値をリストとして取り出してください。また、レコードごとの{カラム名：値, .....｝形式のディクショナリ―も作成してください（リスト内のディクショナリー）"
   ]
  },
  {
   "cell_type": "code",
   "execution_count": 68,
   "id": "4835e515",
   "metadata": {},
   "outputs": [
    {
     "data": {
      "text/plain": [
       "[['S',\n",
       "  92.0,\n",
       "  72.0,\n",
       "  72.0,\n",
       "  57.780214325501944,\n",
       "  53.25293386943906,\n",
       "  41.77794802664312],\n",
       " ['R',\n",
       "  41.0,\n",
       "  14.0,\n",
       "  10.0,\n",
       "  57.714760454374854,\n",
       "  57.77765934554246,\n",
       "  52.210836139348984],\n",
       " ['Q',\n",
       "  28.0,\n",
       "  10.0,\n",
       "  66.0,\n",
       "  47.93037515516187,\n",
       "  50.032489517715014,\n",
       "  51.6463459038399],\n",
       " ['P',\n",
       "  28.0,\n",
       "  55.0,\n",
       "  1.0,\n",
       "  47.13933107082443,\n",
       "  41.13675253050724,\n",
       "  58.686998818139536],\n",
       " ['D', 18.0, 19.0, 20.0, 21.0, 22.0, 23.0],\n",
       " ['C', 12.0, 13.0, 14.0, 15.0, 16.0, 17.0],\n",
       " ['B', 6.0, 7.0, 8.0, 9.0, 10.0, 11.0],\n",
       " ['A', 0.0, 1.0, 2.0, 3.0, 4.0, 5.0]]"
      ]
     },
     "execution_count": 68,
     "metadata": {},
     "output_type": "execute_result"
    }
   ],
   "source": [
    "df.values.tolist()"
   ]
  },
  {
   "cell_type": "markdown",
   "id": "bd5fab72",
   "metadata": {},
   "source": [
    "<details>\n",
    "    <summary><font color='red'>解答はここをクリック</font></summary>\n",
    "    <code>df.values.tolist()</code>\n",
    "</details>"
   ]
  },
  {
   "cell_type": "code",
   "execution_count": 76,
   "id": "2a2c1816",
   "metadata": {
    "scrolled": true
   },
   "outputs": [
    {
     "data": {
      "text/plain": [
       "[{'class': 'S',\n",
       "  'col_0': 92.0,\n",
       "  'col_1': 72.0,\n",
       "  'col_2': 72.0,\n",
       "  'col_3': 57.780214325501944,\n",
       "  'col_4': 53.25293386943906,\n",
       "  'col_5': 41.77794802664312},\n",
       " {'class': 'R',\n",
       "  'col_0': 41.0,\n",
       "  'col_1': 14.0,\n",
       "  'col_2': 10.0,\n",
       "  'col_3': 57.714760454374854,\n",
       "  'col_4': 57.77765934554246,\n",
       "  'col_5': 52.210836139348984},\n",
       " {'class': 'Q',\n",
       "  'col_0': 28.0,\n",
       "  'col_1': 10.0,\n",
       "  'col_2': 66.0,\n",
       "  'col_3': 47.93037515516187,\n",
       "  'col_4': 50.032489517715014,\n",
       "  'col_5': 51.6463459038399},\n",
       " {'class': 'P',\n",
       "  'col_0': 28.0,\n",
       "  'col_1': 55.0,\n",
       "  'col_2': 1.0,\n",
       "  'col_3': 47.13933107082443,\n",
       "  'col_4': 41.13675253050724,\n",
       "  'col_5': 58.686998818139536},\n",
       " {'class': 'D',\n",
       "  'col_0': 18.0,\n",
       "  'col_1': 19.0,\n",
       "  'col_2': 20.0,\n",
       "  'col_3': 21.0,\n",
       "  'col_4': 22.0,\n",
       "  'col_5': 23.0},\n",
       " {'class': 'C',\n",
       "  'col_0': 12.0,\n",
       "  'col_1': 13.0,\n",
       "  'col_2': 14.0,\n",
       "  'col_3': 15.0,\n",
       "  'col_4': 16.0,\n",
       "  'col_5': 17.0},\n",
       " {'class': 'B',\n",
       "  'col_0': 6.0,\n",
       "  'col_1': 7.0,\n",
       "  'col_2': 8.0,\n",
       "  'col_3': 9.0,\n",
       "  'col_4': 10.0,\n",
       "  'col_5': 11.0},\n",
       " {'class': 'A',\n",
       "  'col_0': 0.0,\n",
       "  'col_1': 1.0,\n",
       "  'col_2': 2.0,\n",
       "  'col_3': 3.0,\n",
       "  'col_4': 4.0,\n",
       "  'col_5': 5.0}]"
      ]
     },
     "execution_count": 76,
     "metadata": {},
     "output_type": "execute_result"
    }
   ],
   "source": [
    "df.to_dict(orient='records')"
   ]
  },
  {
   "cell_type": "markdown",
   "id": "1063ea1b",
   "metadata": {},
   "source": [
    "<details>\n",
    "    <summary><font color='red'>解答はここをクリック</font></summary>\n",
    "    <code>df.to_dict(orient='records')</code>\n",
    "</details>"
   ]
  },
  {
   "cell_type": "markdown",
   "id": "57f0424d",
   "metadata": {},
   "source": [
    "Exercise_14 : 以下でいくつかの値を np.nan で置き換えています。DataFrame形式ですべての要素に対して nan であるかどうかをTrue/Falseで表示してください。またカラム毎の nan の合計、全体の nan の合計を表示してください。"
   ]
  },
  {
   "cell_type": "code",
   "execution_count": 77,
   "id": "b336af72",
   "metadata": {},
   "outputs": [
    {
     "data": {
      "text/html": [
       "<div>\n",
       "<style scoped>\n",
       "    .dataframe tbody tr th:only-of-type {\n",
       "        vertical-align: middle;\n",
       "    }\n",
       "\n",
       "    .dataframe tbody tr th {\n",
       "        vertical-align: top;\n",
       "    }\n",
       "\n",
       "    .dataframe thead th {\n",
       "        text-align: right;\n",
       "    }\n",
       "</style>\n",
       "<table border=\"1\" class=\"dataframe\">\n",
       "  <thead>\n",
       "    <tr style=\"text-align: right;\">\n",
       "      <th></th>\n",
       "      <th>class</th>\n",
       "      <th>col_0</th>\n",
       "      <th>col_1</th>\n",
       "      <th>col_2</th>\n",
       "      <th>col_3</th>\n",
       "      <th>col_4</th>\n",
       "      <th>col_5</th>\n",
       "    </tr>\n",
       "  </thead>\n",
       "  <tbody>\n",
       "    <tr>\n",
       "      <th>0</th>\n",
       "      <td>S</td>\n",
       "      <td>92.0</td>\n",
       "      <td>NaN</td>\n",
       "      <td>72.0</td>\n",
       "      <td>57.780214</td>\n",
       "      <td>53.252934</td>\n",
       "      <td>41.777948</td>\n",
       "    </tr>\n",
       "    <tr>\n",
       "      <th>1</th>\n",
       "      <td>R</td>\n",
       "      <td>41.0</td>\n",
       "      <td>14.0</td>\n",
       "      <td>10.0</td>\n",
       "      <td>57.714760</td>\n",
       "      <td>57.777659</td>\n",
       "      <td>52.210836</td>\n",
       "    </tr>\n",
       "    <tr>\n",
       "      <th>2</th>\n",
       "      <td>Q</td>\n",
       "      <td>28.0</td>\n",
       "      <td>10.0</td>\n",
       "      <td>NaN</td>\n",
       "      <td>47.930375</td>\n",
       "      <td>50.032490</td>\n",
       "      <td>51.646346</td>\n",
       "    </tr>\n",
       "    <tr>\n",
       "      <th>3</th>\n",
       "      <td>P</td>\n",
       "      <td>28.0</td>\n",
       "      <td>55.0</td>\n",
       "      <td>1.0</td>\n",
       "      <td>NaN</td>\n",
       "      <td>41.136753</td>\n",
       "      <td>58.686999</td>\n",
       "    </tr>\n",
       "    <tr>\n",
       "      <th>4</th>\n",
       "      <td>D</td>\n",
       "      <td>18.0</td>\n",
       "      <td>19.0</td>\n",
       "      <td>20.0</td>\n",
       "      <td>21.000000</td>\n",
       "      <td>NaN</td>\n",
       "      <td>23.000000</td>\n",
       "    </tr>\n",
       "    <tr>\n",
       "      <th>5</th>\n",
       "      <td>C</td>\n",
       "      <td>12.0</td>\n",
       "      <td>13.0</td>\n",
       "      <td>14.0</td>\n",
       "      <td>15.000000</td>\n",
       "      <td>16.000000</td>\n",
       "      <td>17.000000</td>\n",
       "    </tr>\n",
       "    <tr>\n",
       "      <th>6</th>\n",
       "      <td>B</td>\n",
       "      <td>6.0</td>\n",
       "      <td>7.0</td>\n",
       "      <td>8.0</td>\n",
       "      <td>9.000000</td>\n",
       "      <td>NaN</td>\n",
       "      <td>11.000000</td>\n",
       "    </tr>\n",
       "    <tr>\n",
       "      <th>7</th>\n",
       "      <td>A</td>\n",
       "      <td>0.0</td>\n",
       "      <td>1.0</td>\n",
       "      <td>2.0</td>\n",
       "      <td>3.000000</td>\n",
       "      <td>4.000000</td>\n",
       "      <td>5.000000</td>\n",
       "    </tr>\n",
       "  </tbody>\n",
       "</table>\n",
       "</div>"
      ],
      "text/plain": [
       "  class  col_0  col_1  col_2      col_3      col_4      col_5\n",
       "0     S   92.0    NaN   72.0  57.780214  53.252934  41.777948\n",
       "1     R   41.0   14.0   10.0  57.714760  57.777659  52.210836\n",
       "2     Q   28.0   10.0    NaN  47.930375  50.032490  51.646346\n",
       "3     P   28.0   55.0    1.0        NaN  41.136753  58.686999\n",
       "4     D   18.0   19.0   20.0  21.000000        NaN  23.000000\n",
       "5     C   12.0   13.0   14.0  15.000000  16.000000  17.000000\n",
       "6     B    6.0    7.0    8.0   9.000000        NaN  11.000000\n",
       "7     A    0.0    1.0    2.0   3.000000   4.000000   5.000000"
      ]
     },
     "execution_count": 77,
     "metadata": {},
     "output_type": "execute_result"
    }
   ],
   "source": [
    "# 実行して表示\n",
    "list_null = [[0, 2], [2, 3], [3, 4], [4, 5], [6, 5]]\n",
    "for i in list_null:\n",
    "    df.iloc[i[0], i[1]] = np.nan\n",
    "\n",
    "df"
   ]
  },
  {
   "cell_type": "code",
   "execution_count": 78,
   "id": "ab2ff6a4",
   "metadata": {},
   "outputs": [
    {
     "data": {
      "text/html": [
       "<div>\n",
       "<style scoped>\n",
       "    .dataframe tbody tr th:only-of-type {\n",
       "        vertical-align: middle;\n",
       "    }\n",
       "\n",
       "    .dataframe tbody tr th {\n",
       "        vertical-align: top;\n",
       "    }\n",
       "\n",
       "    .dataframe thead th {\n",
       "        text-align: right;\n",
       "    }\n",
       "</style>\n",
       "<table border=\"1\" class=\"dataframe\">\n",
       "  <thead>\n",
       "    <tr style=\"text-align: right;\">\n",
       "      <th></th>\n",
       "      <th>class</th>\n",
       "      <th>col_0</th>\n",
       "      <th>col_1</th>\n",
       "      <th>col_2</th>\n",
       "      <th>col_3</th>\n",
       "      <th>col_4</th>\n",
       "      <th>col_5</th>\n",
       "    </tr>\n",
       "  </thead>\n",
       "  <tbody>\n",
       "    <tr>\n",
       "      <th>0</th>\n",
       "      <td>False</td>\n",
       "      <td>False</td>\n",
       "      <td>True</td>\n",
       "      <td>False</td>\n",
       "      <td>False</td>\n",
       "      <td>False</td>\n",
       "      <td>False</td>\n",
       "    </tr>\n",
       "    <tr>\n",
       "      <th>1</th>\n",
       "      <td>False</td>\n",
       "      <td>False</td>\n",
       "      <td>False</td>\n",
       "      <td>False</td>\n",
       "      <td>False</td>\n",
       "      <td>False</td>\n",
       "      <td>False</td>\n",
       "    </tr>\n",
       "    <tr>\n",
       "      <th>2</th>\n",
       "      <td>False</td>\n",
       "      <td>False</td>\n",
       "      <td>False</td>\n",
       "      <td>True</td>\n",
       "      <td>False</td>\n",
       "      <td>False</td>\n",
       "      <td>False</td>\n",
       "    </tr>\n",
       "    <tr>\n",
       "      <th>3</th>\n",
       "      <td>False</td>\n",
       "      <td>False</td>\n",
       "      <td>False</td>\n",
       "      <td>False</td>\n",
       "      <td>True</td>\n",
       "      <td>False</td>\n",
       "      <td>False</td>\n",
       "    </tr>\n",
       "    <tr>\n",
       "      <th>4</th>\n",
       "      <td>False</td>\n",
       "      <td>False</td>\n",
       "      <td>False</td>\n",
       "      <td>False</td>\n",
       "      <td>False</td>\n",
       "      <td>True</td>\n",
       "      <td>False</td>\n",
       "    </tr>\n",
       "    <tr>\n",
       "      <th>5</th>\n",
       "      <td>False</td>\n",
       "      <td>False</td>\n",
       "      <td>False</td>\n",
       "      <td>False</td>\n",
       "      <td>False</td>\n",
       "      <td>False</td>\n",
       "      <td>False</td>\n",
       "    </tr>\n",
       "    <tr>\n",
       "      <th>6</th>\n",
       "      <td>False</td>\n",
       "      <td>False</td>\n",
       "      <td>False</td>\n",
       "      <td>False</td>\n",
       "      <td>False</td>\n",
       "      <td>True</td>\n",
       "      <td>False</td>\n",
       "    </tr>\n",
       "    <tr>\n",
       "      <th>7</th>\n",
       "      <td>False</td>\n",
       "      <td>False</td>\n",
       "      <td>False</td>\n",
       "      <td>False</td>\n",
       "      <td>False</td>\n",
       "      <td>False</td>\n",
       "      <td>False</td>\n",
       "    </tr>\n",
       "  </tbody>\n",
       "</table>\n",
       "</div>"
      ],
      "text/plain": [
       "   class  col_0  col_1  col_2  col_3  col_4  col_5\n",
       "0  False  False   True  False  False  False  False\n",
       "1  False  False  False  False  False  False  False\n",
       "2  False  False  False   True  False  False  False\n",
       "3  False  False  False  False   True  False  False\n",
       "4  False  False  False  False  False   True  False\n",
       "5  False  False  False  False  False  False  False\n",
       "6  False  False  False  False  False   True  False\n",
       "7  False  False  False  False  False  False  False"
      ]
     },
     "execution_count": 78,
     "metadata": {},
     "output_type": "execute_result"
    }
   ],
   "source": [
    "# すべての要素に対して True or False\n",
    "df.isnull()"
   ]
  },
  {
   "cell_type": "markdown",
   "id": "53bcaaff",
   "metadata": {},
   "source": [
    "<details>\n",
    "    <summary><font color='red'>解答はここをクリック</font></summary>\n",
    "    <code>df.isnull()</code>\n",
    "</details>"
   ]
  },
  {
   "cell_type": "code",
   "execution_count": 79,
   "id": "3921a5c2",
   "metadata": {},
   "outputs": [
    {
     "data": {
      "text/plain": [
       "class    0\n",
       "col_0    0\n",
       "col_1    1\n",
       "col_2    1\n",
       "col_3    1\n",
       "col_4    2\n",
       "col_5    0\n",
       "dtype: int64"
      ]
     },
     "execution_count": 79,
     "metadata": {},
     "output_type": "execute_result"
    }
   ],
   "source": [
    "# カラム毎のnanの合計\n",
    "df.isnull().sum()"
   ]
  },
  {
   "cell_type": "markdown",
   "id": "36e2f4b4",
   "metadata": {},
   "source": [
    "<details>\n",
    "    <summary><font color='red'>解答はここをクリック</font></summary>\n",
    "    <code>df.isnull().sum()</code>\n",
    "</details>"
   ]
  },
  {
   "cell_type": "code",
   "execution_count": 80,
   "id": "bd91e8dc",
   "metadata": {},
   "outputs": [
    {
     "data": {
      "text/plain": [
       "5"
      ]
     },
     "execution_count": 80,
     "metadata": {},
     "output_type": "execute_result"
    }
   ],
   "source": [
    "# 全体のnanの合計\n",
    "df.isnull().sum().sum()"
   ]
  },
  {
   "cell_type": "markdown",
   "id": "0af51a8d",
   "metadata": {},
   "source": [
    "<details>\n",
    "    <summary><font color='red'>解答はここをクリック</font></summary>\n",
    "    <code>df.isnull().sum().sum()</code>\n",
    "</details>"
   ]
  },
  {
   "cell_type": "markdown",
   "id": "d119ea89",
   "metadata": {},
   "source": [
    "Exercise_15 : nanではないレコードの数をカラム毎に表示して下さい"
   ]
  },
  {
   "cell_type": "code",
   "execution_count": 81,
   "id": "dea9e95c",
   "metadata": {
    "scrolled": true
   },
   "outputs": [
    {
     "data": {
      "text/plain": [
       "class    8\n",
       "col_0    8\n",
       "col_1    7\n",
       "col_2    7\n",
       "col_3    7\n",
       "col_4    6\n",
       "col_5    8\n",
       "dtype: int64"
      ]
     },
     "execution_count": 81,
     "metadata": {},
     "output_type": "execute_result"
    }
   ],
   "source": [
    "df.count()"
   ]
  },
  {
   "cell_type": "markdown",
   "id": "73f73d91",
   "metadata": {},
   "source": [
    "<details>\n",
    "    <summary><font color='red'>解答はここをクリック</font></summary>\n",
    "    <code>df.count()</code>\n",
    "</details>"
   ]
  },
  {
   "cell_type": "markdown",
   "id": "15c2c0f0",
   "metadata": {},
   "source": [
    "Exercise_14 : nan を含むレコードのみを表示して下さい。　ヒント：「各レコード」に対して nan の合計を求め、それが 1 以上のものだけを抽出"
   ]
  },
  {
   "cell_type": "code",
   "execution_count": 83,
   "id": "51d3aac1",
   "metadata": {
    "scrolled": true
   },
   "outputs": [
    {
     "data": {
      "text/html": [
       "<div>\n",
       "<style scoped>\n",
       "    .dataframe tbody tr th:only-of-type {\n",
       "        vertical-align: middle;\n",
       "    }\n",
       "\n",
       "    .dataframe tbody tr th {\n",
       "        vertical-align: top;\n",
       "    }\n",
       "\n",
       "    .dataframe thead th {\n",
       "        text-align: right;\n",
       "    }\n",
       "</style>\n",
       "<table border=\"1\" class=\"dataframe\">\n",
       "  <thead>\n",
       "    <tr style=\"text-align: right;\">\n",
       "      <th></th>\n",
       "      <th>class</th>\n",
       "      <th>col_0</th>\n",
       "      <th>col_1</th>\n",
       "      <th>col_2</th>\n",
       "      <th>col_3</th>\n",
       "      <th>col_4</th>\n",
       "      <th>col_5</th>\n",
       "    </tr>\n",
       "  </thead>\n",
       "  <tbody>\n",
       "    <tr>\n",
       "      <th>0</th>\n",
       "      <td>S</td>\n",
       "      <td>92.0</td>\n",
       "      <td>NaN</td>\n",
       "      <td>72.0</td>\n",
       "      <td>57.780214</td>\n",
       "      <td>53.252934</td>\n",
       "      <td>41.777948</td>\n",
       "    </tr>\n",
       "    <tr>\n",
       "      <th>2</th>\n",
       "      <td>Q</td>\n",
       "      <td>28.0</td>\n",
       "      <td>10.0</td>\n",
       "      <td>NaN</td>\n",
       "      <td>47.930375</td>\n",
       "      <td>50.032490</td>\n",
       "      <td>51.646346</td>\n",
       "    </tr>\n",
       "    <tr>\n",
       "      <th>3</th>\n",
       "      <td>P</td>\n",
       "      <td>28.0</td>\n",
       "      <td>55.0</td>\n",
       "      <td>1.0</td>\n",
       "      <td>NaN</td>\n",
       "      <td>41.136753</td>\n",
       "      <td>58.686999</td>\n",
       "    </tr>\n",
       "    <tr>\n",
       "      <th>4</th>\n",
       "      <td>D</td>\n",
       "      <td>18.0</td>\n",
       "      <td>19.0</td>\n",
       "      <td>20.0</td>\n",
       "      <td>21.000000</td>\n",
       "      <td>NaN</td>\n",
       "      <td>23.000000</td>\n",
       "    </tr>\n",
       "    <tr>\n",
       "      <th>6</th>\n",
       "      <td>B</td>\n",
       "      <td>6.0</td>\n",
       "      <td>7.0</td>\n",
       "      <td>8.0</td>\n",
       "      <td>9.000000</td>\n",
       "      <td>NaN</td>\n",
       "      <td>11.000000</td>\n",
       "    </tr>\n",
       "  </tbody>\n",
       "</table>\n",
       "</div>"
      ],
      "text/plain": [
       "  class  col_0  col_1  col_2      col_3      col_4      col_5\n",
       "0     S   92.0    NaN   72.0  57.780214  53.252934  41.777948\n",
       "2     Q   28.0   10.0    NaN  47.930375  50.032490  51.646346\n",
       "3     P   28.0   55.0    1.0        NaN  41.136753  58.686999\n",
       "4     D   18.0   19.0   20.0  21.000000        NaN  23.000000\n",
       "6     B    6.0    7.0    8.0   9.000000        NaN  11.000000"
      ]
     },
     "execution_count": 83,
     "metadata": {},
     "output_type": "execute_result"
    }
   ],
   "source": [
    "# レコード毎のnanの合計\n",
    "df[1<=df.isnull().sum(axis=1)]"
   ]
  },
  {
   "cell_type": "markdown",
   "id": "37746cd2",
   "metadata": {},
   "source": [
    "<details>\n",
    "    <summary><font color='red'>解答はここをクリック</font></summary>\n",
    "    <code>df.isnull().sum(axis=1)</code>\n",
    "</details>"
   ]
  },
  {
   "cell_type": "code",
   "execution_count": 84,
   "id": "d9c242b5",
   "metadata": {},
   "outputs": [
    {
     "data": {
      "text/html": [
       "<style type=\"text/css\">\n",
       "#T_e0406_row0_col2, #T_e0406_row1_col3, #T_e0406_row2_col4, #T_e0406_row3_col5, #T_e0406_row4_col5 {\n",
       "  background-color: red;\n",
       "}\n",
       "</style>\n",
       "<table id=\"T_e0406\">\n",
       "  <thead>\n",
       "    <tr>\n",
       "      <th class=\"blank level0\" >&nbsp;</th>\n",
       "      <th id=\"T_e0406_level0_col0\" class=\"col_heading level0 col0\" >class</th>\n",
       "      <th id=\"T_e0406_level0_col1\" class=\"col_heading level0 col1\" >col_0</th>\n",
       "      <th id=\"T_e0406_level0_col2\" class=\"col_heading level0 col2\" >col_1</th>\n",
       "      <th id=\"T_e0406_level0_col3\" class=\"col_heading level0 col3\" >col_2</th>\n",
       "      <th id=\"T_e0406_level0_col4\" class=\"col_heading level0 col4\" >col_3</th>\n",
       "      <th id=\"T_e0406_level0_col5\" class=\"col_heading level0 col5\" >col_4</th>\n",
       "      <th id=\"T_e0406_level0_col6\" class=\"col_heading level0 col6\" >col_5</th>\n",
       "    </tr>\n",
       "  </thead>\n",
       "  <tbody>\n",
       "    <tr>\n",
       "      <th id=\"T_e0406_level0_row0\" class=\"row_heading level0 row0\" >0</th>\n",
       "      <td id=\"T_e0406_row0_col0\" class=\"data row0 col0\" >S</td>\n",
       "      <td id=\"T_e0406_row0_col1\" class=\"data row0 col1\" >92.000000</td>\n",
       "      <td id=\"T_e0406_row0_col2\" class=\"data row0 col2\" >nan</td>\n",
       "      <td id=\"T_e0406_row0_col3\" class=\"data row0 col3\" >72.000000</td>\n",
       "      <td id=\"T_e0406_row0_col4\" class=\"data row0 col4\" >57.780214</td>\n",
       "      <td id=\"T_e0406_row0_col5\" class=\"data row0 col5\" >53.252934</td>\n",
       "      <td id=\"T_e0406_row0_col6\" class=\"data row0 col6\" >41.777948</td>\n",
       "    </tr>\n",
       "    <tr>\n",
       "      <th id=\"T_e0406_level0_row1\" class=\"row_heading level0 row1\" >2</th>\n",
       "      <td id=\"T_e0406_row1_col0\" class=\"data row1 col0\" >Q</td>\n",
       "      <td id=\"T_e0406_row1_col1\" class=\"data row1 col1\" >28.000000</td>\n",
       "      <td id=\"T_e0406_row1_col2\" class=\"data row1 col2\" >10.000000</td>\n",
       "      <td id=\"T_e0406_row1_col3\" class=\"data row1 col3\" >nan</td>\n",
       "      <td id=\"T_e0406_row1_col4\" class=\"data row1 col4\" >47.930375</td>\n",
       "      <td id=\"T_e0406_row1_col5\" class=\"data row1 col5\" >50.032490</td>\n",
       "      <td id=\"T_e0406_row1_col6\" class=\"data row1 col6\" >51.646346</td>\n",
       "    </tr>\n",
       "    <tr>\n",
       "      <th id=\"T_e0406_level0_row2\" class=\"row_heading level0 row2\" >3</th>\n",
       "      <td id=\"T_e0406_row2_col0\" class=\"data row2 col0\" >P</td>\n",
       "      <td id=\"T_e0406_row2_col1\" class=\"data row2 col1\" >28.000000</td>\n",
       "      <td id=\"T_e0406_row2_col2\" class=\"data row2 col2\" >55.000000</td>\n",
       "      <td id=\"T_e0406_row2_col3\" class=\"data row2 col3\" >1.000000</td>\n",
       "      <td id=\"T_e0406_row2_col4\" class=\"data row2 col4\" >nan</td>\n",
       "      <td id=\"T_e0406_row2_col5\" class=\"data row2 col5\" >41.136753</td>\n",
       "      <td id=\"T_e0406_row2_col6\" class=\"data row2 col6\" >58.686999</td>\n",
       "    </tr>\n",
       "    <tr>\n",
       "      <th id=\"T_e0406_level0_row3\" class=\"row_heading level0 row3\" >4</th>\n",
       "      <td id=\"T_e0406_row3_col0\" class=\"data row3 col0\" >D</td>\n",
       "      <td id=\"T_e0406_row3_col1\" class=\"data row3 col1\" >18.000000</td>\n",
       "      <td id=\"T_e0406_row3_col2\" class=\"data row3 col2\" >19.000000</td>\n",
       "      <td id=\"T_e0406_row3_col3\" class=\"data row3 col3\" >20.000000</td>\n",
       "      <td id=\"T_e0406_row3_col4\" class=\"data row3 col4\" >21.000000</td>\n",
       "      <td id=\"T_e0406_row3_col5\" class=\"data row3 col5\" >nan</td>\n",
       "      <td id=\"T_e0406_row3_col6\" class=\"data row3 col6\" >23.000000</td>\n",
       "    </tr>\n",
       "    <tr>\n",
       "      <th id=\"T_e0406_level0_row4\" class=\"row_heading level0 row4\" >6</th>\n",
       "      <td id=\"T_e0406_row4_col0\" class=\"data row4 col0\" >B</td>\n",
       "      <td id=\"T_e0406_row4_col1\" class=\"data row4 col1\" >6.000000</td>\n",
       "      <td id=\"T_e0406_row4_col2\" class=\"data row4 col2\" >7.000000</td>\n",
       "      <td id=\"T_e0406_row4_col3\" class=\"data row4 col3\" >8.000000</td>\n",
       "      <td id=\"T_e0406_row4_col4\" class=\"data row4 col4\" >9.000000</td>\n",
       "      <td id=\"T_e0406_row4_col5\" class=\"data row4 col5\" >nan</td>\n",
       "      <td id=\"T_e0406_row4_col6\" class=\"data row4 col6\" >11.000000</td>\n",
       "    </tr>\n",
       "  </tbody>\n",
       "</table>\n"
      ],
      "text/plain": [
       "<pandas.io.formats.style.Styler at 0x7fc70ff65880>"
      ]
     },
     "execution_count": 84,
     "metadata": {},
     "output_type": "execute_result"
    }
   ],
   "source": [
    "# 上記の合計 >= 1 の条件で抽出\n",
    "# .style.highlight_null(null_color='red')を使ってください\n",
    "df[1<=df.isnull().sum(axis=1)].style.highlight_null()"
   ]
  },
  {
   "cell_type": "markdown",
   "id": "f84ed8fb",
   "metadata": {},
   "source": [
    "<details>\n",
    "    <summary><font color='red'>解答はここをクリック</font></summary>\n",
    "    <code>df[df.isnull().sum(axis=1) >= 1].style.highlight_null(null_color='red')</code>\n",
    "</details>"
   ]
  },
  {
   "cell_type": "markdown",
   "id": "415d5a1e",
   "metadata": {},
   "source": [
    "Exercise_16 : dfの数値のみのカラム毎の合計値を、異なる二つの手法で求めてください"
   ]
  },
  {
   "cell_type": "code",
   "execution_count": 87,
   "id": "e0611a76",
   "metadata": {
    "scrolled": true
   },
   "outputs": [
    {
     "data": {
      "text/plain": [
       "class      SRQPDCBA\n",
       "col_0         225.0\n",
       "col_1         119.0\n",
       "col_2         127.0\n",
       "col_3     211.42535\n",
       "col_4    222.199835\n",
       "col_5    260.322129\n",
       "dtype: object"
      ]
     },
     "execution_count": 87,
     "metadata": {},
     "output_type": "execute_result"
    }
   ],
   "source": [
    "# 実行して表示\n",
    "df.sum()"
   ]
  },
  {
   "cell_type": "code",
   "execution_count": 88,
   "id": "b7a3eb52",
   "metadata": {},
   "outputs": [
    {
     "data": {
      "text/plain": [
       "col_0    225.000000\n",
       "col_1    119.000000\n",
       "col_2    127.000000\n",
       "col_3    211.425350\n",
       "col_4    222.199835\n",
       "col_5    260.322129\n",
       "dtype: float64"
      ]
     },
     "execution_count": 88,
     "metadata": {},
     "output_type": "execute_result"
    }
   ],
   "source": [
    "# sumのキーワードアーギュメント（キーワード引数）を指定する方法\n",
    "df.sum(numeric_only=True)"
   ]
  },
  {
   "cell_type": "markdown",
   "id": "ce921c76",
   "metadata": {},
   "source": [
    "<details>\n",
    "    <summary><font color='red'>解答はここをクリック</font></summary>\n",
    "    <code>df.sum(numeric_only=True)</code>\n",
    "</details>"
   ]
  },
  {
   "cell_type": "code",
   "execution_count": 89,
   "id": "2da9e8cf",
   "metadata": {},
   "outputs": [
    {
     "data": {
      "text/plain": [
       "col_0    225.000000\n",
       "col_1    119.000000\n",
       "col_2    127.000000\n",
       "col_3    211.425350\n",
       "col_4    222.199835\n",
       "col_5    260.322129\n",
       "dtype: float64"
      ]
     },
     "execution_count": 89,
     "metadata": {},
     "output_type": "execute_result"
    }
   ],
   "source": [
    "# dtypeが数値のもののみを選択する方法\n",
    "df.select_dtypes(include=[int, float]).sum()"
   ]
  },
  {
   "cell_type": "markdown",
   "id": "5e54223b",
   "metadata": {},
   "source": [
    "<details>\n",
    "    <summary><font color='red'>解答はここをクリック</font></summary>\n",
    "    <code>df.select_dtypes(include=[int, float]).sum()</code>\n",
    "</details>"
   ]
  },
  {
   "cell_type": "markdown",
   "id": "049bd476",
   "metadata": {},
   "source": [
    "Exercise_17 : nan を視覚的に把握できるように seaborn の heatmap で df.isnull() を表示してください。  "
   ]
  },
  {
   "cell_type": "code",
   "execution_count": 91,
   "id": "e94fd7c0",
   "metadata": {},
   "outputs": [
    {
     "data": {
      "text/plain": [
       "<Axes: >"
      ]
     },
     "execution_count": 91,
     "metadata": {},
     "output_type": "execute_result"
    },
    {
     "data": {
      "image/png": "[encoded data removed]",
      "text/plain": [
       "<Figure size 640x480 with 2 Axes>"
      ]
     },
     "metadata": {},
     "output_type": "display_data"
    }
   ],
   "source": [
    "# 実行して表示するだけ\n",
    "sns.heatmap(df.isnull())"
   ]
  },
  {
   "cell_type": "markdown",
   "id": "f47691e6",
   "metadata": {},
   "source": [
    "Exercise_18 : 今回作成した df を df_exercise.csv として現在のワーキングディレクトリに保存してください"
   ]
  },
  {
   "cell_type": "code",
   "execution_count": 92,
   "id": "edfdb3da",
   "metadata": {},
   "outputs": [],
   "source": [
    "df.to_csv('df_exercise.csv')"
   ]
  },
  {
   "cell_type": "markdown",
   "id": "6603c5bd",
   "metadata": {},
   "source": [
    "<details>\n",
    "    <summary><font color='red'>解答はここをクリック</font></summary>\n",
    "    <code>df.to_csv('df_exercise.csv')</code>\n",
    "</details>"
   ]
  },
  {
   "cell_type": "markdown",
   "id": "8d0a5442",
   "metadata": {},
   "source": [
    "Exercise_19 : 下記の値を答えてください"
   ]
  },
  {
   "cell_type": "code",
   "execution_count": 93,
   "id": "c867268e",
   "metadata": {},
   "outputs": [
    {
     "data": {
      "text/plain": [
       "array([[[ 0,  1,  2],\n",
       "        [ 3,  4,  5]],\n",
       "\n",
       "       [[ 6,  7,  8],\n",
       "        [ 9, 10, 11]]])"
      ]
     },
     "execution_count": 93,
     "metadata": {},
     "output_type": "execute_result"
    }
   ],
   "source": [
    "# 実行して表示\n",
    "np.random.seed(17)\n",
    "arr = np.arange(12).reshape(2, 2, 3)\n",
    "arr"
   ]
  },
  {
   "cell_type": "code",
   "execution_count": 94,
   "id": "0c164835",
   "metadata": {},
   "outputs": [
    {
     "name": "stdout",
     "output_type": "stream",
     "text": [
      "[[ 6  8 10]\n",
      " [12 14 16]]\n"
     ]
    }
   ],
   "source": [
    "# 結果を考えてから、実行して確認\n",
    "print(arr.sum(axis=0))"
   ]
  },
  {
   "cell_type": "code",
   "execution_count": 95,
   "id": "6f08f976",
   "metadata": {},
   "outputs": [
    {
     "name": "stdout",
     "output_type": "stream",
     "text": [
      "[[ 3  5  7]\n",
      " [15 17 19]]\n"
     ]
    }
   ],
   "source": [
    "# 結果を考えてから、実行して確認\n",
    "print(arr.sum(axis=1))"
   ]
  },
  {
   "cell_type": "code",
   "execution_count": 96,
   "id": "e069bbcf",
   "metadata": {},
   "outputs": [
    {
     "name": "stdout",
     "output_type": "stream",
     "text": [
      "[[ 1.  4.]\n",
      " [ 7. 10.]]\n"
     ]
    }
   ],
   "source": [
    "# 結果を考えてから、実行して確認\n",
    "print(arr.mean(axis=2))"
   ]
  },
  {
   "cell_type": "markdown",
   "id": "d740947c",
   "metadata": {},
   "source": [
    "## 以上"
   ]
  }
 ],
 "metadata": {
  "kernelspec": {
   "display_name": "Python 3",
   "language": "python",
   "name": "python3"
  },
  "language_info": {
   "codemirror_mode": {
    "name": "ipython",
    "version": 3
   },
   "file_extension": ".py",
   "mimetype": "text/x-python",
   "name": "python",
   "nbconvert_exporter": "python",
   "pygments_lexer": "ipython3",
   "version": "3.9.19"
  }
 },
 "nbformat": 4,
 "nbformat_minor": 5
}
