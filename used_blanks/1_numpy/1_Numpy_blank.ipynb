{
 "cells": [
  {
   "cell_type": "markdown",
   "id": "2346558a",
   "metadata": {},
   "source": [
    "<a id=0></a>  \n",
    "# 1. Numpy ndarrayを理解する\n",
    "### ※ Numpy : ”Numerical Python”、数値計算・配列計算を高速で実行できるパッケージ"
   ]
  },
  {
   "cell_type": "markdown",
   "id": "d42a05df",
   "metadata": {},
   "source": [
    "---\n",
    "### [1.Python ListとNumpy ndarray ](#1)\n",
    "### [2.Numpyの関数で連番、等差数列を作成](#2)\n",
    "### [3.Randomモジュールによる乱数Arrayの作成と次元の変換](#3)\n",
    "### [4.Numpy ndarrayの次元、形状、サイズ](#4)\n",
    "### [5.Numpy ndarrayの演算例](#5)\n",
    "---"
   ]
  },
  {
   "cell_type": "markdown",
   "id": "650acfd3",
   "metadata": {},
   "source": [
    "Numpyをnpというエイリアス（別名）でインポートする  "
   ]
  },
  {
   "cell_type": "code",
   "execution_count": 1,
   "id": "972ba1da",
   "metadata": {},
   "outputs": [],
   "source": [
    "import numpy as np"
   ]
  },
  {
   "cell_type": "markdown",
   "id": "1279c566",
   "metadata": {},
   "source": [
    "---\n",
    "<a id=1></a>\n",
    "[Topへ](#0)\n",
    "\n",
    "---\n",
    "## 1.Python ListとNumpy ndarray      "
   ]
  },
  {
   "cell_type": "markdown",
   "id": "0e8bcf67",
   "metadata": {},
   "source": [
    "* ListとNumpy ndarrayを作成\n",
    "* 型（タイプ）を確認  \n",
    "* Numpy ndarrayのデータタイプ（Numpy ndarrayではすべての要素のデータタイプが統一される）\n",
    "* Numpy ndarrayの演算例\n",
    "* Numpy ndarrayの最大値、最小値、平均、合計\n",
    "* Numpy ndarrayは要素の形状を一定に\n",
    "* Numpy ndarrayのデータタイプ変換\n",
    "---"
   ]
  },
  {
   "cell_type": "markdown",
   "id": "1471a3cb",
   "metadata": {},
   "source": [
    "List と ndarrayを作成"
   ]
  },
  {
   "cell_type": "code",
   "execution_count": 2,
   "id": "160306be",
   "metadata": {},
   "outputs": [
    {
     "data": {
      "text/plain": [
       "[1, 3, 5]"
      ]
     },
     "execution_count": 2,
     "metadata": {},
     "output_type": "execute_result"
    }
   ],
   "source": [
    "arr1 = [1, 3, 5]\n",
    "arr2 = [2, 4, 6]\n",
    "arr1"
   ]
  },
  {
   "cell_type": "code",
   "execution_count": 3,
   "id": "92b082e6",
   "metadata": {},
   "outputs": [
    {
     "data": {
      "text/plain": [
       "[2, 4, 6]"
      ]
     },
     "execution_count": 3,
     "metadata": {},
     "output_type": "execute_result"
    }
   ],
   "source": [
    "arr2"
   ]
  },
  {
   "cell_type": "code",
   "execution_count": 4,
   "id": "27d0d8d7",
   "metadata": {},
   "outputs": [
    {
     "data": {
      "text/plain": [
       "array([1, 3, 5])"
      ]
     },
     "execution_count": 4,
     "metadata": {},
     "output_type": "execute_result"
    }
   ],
   "source": [
    "# Numpy ndarray\n",
    "np_arr1 = np.array(arr1)\n",
    "np_arr2 = np.array(arr2)\n",
    "np_arr1"
   ]
  },
  {
   "cell_type": "code",
   "execution_count": 5,
   "id": "c76fd8a5",
   "metadata": {},
   "outputs": [
    {
     "data": {
      "text/plain": [
       "array([2, 4, 6])"
      ]
     },
     "execution_count": 5,
     "metadata": {},
     "output_type": "execute_result"
    }
   ],
   "source": [
    "np_arr2"
   ]
  },
  {
   "cell_type": "markdown",
   "id": "5938050d",
   "metadata": {},
   "source": [
    "型（タイプ）を確認  \n",
    "※ ndarray : n dimentional array（多次元配列）"
   ]
  },
  {
   "cell_type": "code",
   "execution_count": 8,
   "id": "4a9bfd9b",
   "metadata": {},
   "outputs": [
    {
     "data": {
      "text/plain": [
       "list"
      ]
     },
     "execution_count": 8,
     "metadata": {},
     "output_type": "execute_result"
    }
   ],
   "source": [
    "type(arr1)"
   ]
  },
  {
   "cell_type": "code",
   "execution_count": 9,
   "id": "bc32c016",
   "metadata": {},
   "outputs": [
    {
     "data": {
      "text/plain": [
       "list"
      ]
     },
     "execution_count": 9,
     "metadata": {},
     "output_type": "execute_result"
    }
   ],
   "source": [
    "type(arr2)"
   ]
  },
  {
   "cell_type": "code",
   "execution_count": 6,
   "id": "69785e4b",
   "metadata": {
    "scrolled": true
   },
   "outputs": [
    {
     "data": {
      "text/plain": [
       "numpy.ndarray"
      ]
     },
     "execution_count": 6,
     "metadata": {},
     "output_type": "execute_result"
    }
   ],
   "source": [
    "type(np_arr1)"
   ]
  },
  {
   "cell_type": "code",
   "execution_count": 7,
   "id": "ea17bcf3",
   "metadata": {},
   "outputs": [
    {
     "data": {
      "text/plain": [
       "numpy.ndarray"
      ]
     },
     "execution_count": 7,
     "metadata": {},
     "output_type": "execute_result"
    }
   ],
   "source": [
    "type(np_arr2)"
   ]
  },
  {
   "cell_type": "markdown",
   "id": "732627d7",
   "metadata": {},
   "source": [
    "Numpy ndarrayのデータタイプ（Numpy ndarrayではすべての要素のデータタイプが統一される）"
   ]
  },
  {
   "cell_type": "code",
   "execution_count": 10,
   "id": "5f213384",
   "metadata": {},
   "outputs": [
    {
     "data": {
      "text/plain": [
       "dtype('int64')"
      ]
     },
     "execution_count": 10,
     "metadata": {},
     "output_type": "execute_result"
    }
   ],
   "source": [
    "np_arr1.dtype"
   ]
  },
  {
   "cell_type": "code",
   "execution_count": 11,
   "id": "e52251e0",
   "metadata": {},
   "outputs": [
    {
     "data": {
      "text/plain": [
       "dtype('int64')"
      ]
     },
     "execution_count": 11,
     "metadata": {},
     "output_type": "execute_result"
    }
   ],
   "source": [
    "np_arr2.dtype"
   ]
  },
  {
   "cell_type": "markdown",
   "id": "85da2428",
   "metadata": {},
   "source": [
    "NumpyArrayの演算例"
   ]
  },
  {
   "cell_type": "code",
   "execution_count": 12,
   "id": "9e629e03",
   "metadata": {},
   "outputs": [
    {
     "data": {
      "text/plain": [
       "array([ 2,  6, 10])"
      ]
     },
     "execution_count": 12,
     "metadata": {},
     "output_type": "execute_result"
    }
   ],
   "source": [
    "np_arr1 * 2"
   ]
  },
  {
   "cell_type": "code",
   "execution_count": 13,
   "id": "899bca93",
   "metadata": {},
   "outputs": [
    {
     "data": {
      "text/plain": [
       "[1, 3, 5, 1, 3, 5]"
      ]
     },
     "execution_count": 13,
     "metadata": {},
     "output_type": "execute_result"
    }
   ],
   "source": [
    "arr1 * 2"
   ]
  },
  {
   "cell_type": "code",
   "execution_count": 14,
   "id": "f218a6b0",
   "metadata": {},
   "outputs": [
    {
     "data": {
      "text/plain": [
       "array([ 3,  7, 11])"
      ]
     },
     "execution_count": 14,
     "metadata": {},
     "output_type": "execute_result"
    }
   ],
   "source": [
    "np_arr1 + np_arr2"
   ]
  },
  {
   "cell_type": "code",
   "execution_count": 15,
   "id": "916046a3",
   "metadata": {},
   "outputs": [
    {
     "data": {
      "text/plain": [
       "[1, 3, 5, 2, 4, 6]"
      ]
     },
     "execution_count": 15,
     "metadata": {},
     "output_type": "execute_result"
    }
   ],
   "source": [
    "arr1 + arr2"
   ]
  },
  {
   "cell_type": "code",
   "execution_count": 16,
   "id": "5d3c5af1",
   "metadata": {},
   "outputs": [
    {
     "data": {
      "text/plain": [
       "array([ 2, 12, 30])"
      ]
     },
     "execution_count": 16,
     "metadata": {},
     "output_type": "execute_result"
    }
   ],
   "source": [
    "np_arr1 * np_arr2"
   ]
  },
  {
   "cell_type": "code",
   "execution_count": 17,
   "id": "4d4034e4",
   "metadata": {},
   "outputs": [
    {
     "ename": "TypeError",
     "evalue": "can't multiply sequence by non-int of type 'list'",
     "output_type": "error",
     "traceback": [
      "\u001b[0;31m---------------------------------------------------------------------------\u001b[0m",
      "\u001b[0;31mTypeError\u001b[0m                                 Traceback (most recent call last)",
      "Cell \u001b[0;32mIn[17], line 1\u001b[0m\n\u001b[0;32m----> 1\u001b[0m \u001b[43marr1\u001b[49m\u001b[43m \u001b[49m\u001b[38;5;241;43m*\u001b[39;49m\u001b[43m \u001b[49m\u001b[43marr2\u001b[49m\n",
      "\u001b[0;31mTypeError\u001b[0m: can't multiply sequence by non-int of type 'list'"
     ]
    }
   ],
   "source": [
    "# arr1 * arr2"
   ]
  },
  {
   "cell_type": "markdown",
   "id": "e3848cf8",
   "metadata": {},
   "source": [
    "Numpy ndarrayの最大値、最小値、平均、合計、分散、標準偏差（全要素に対する）"
   ]
  },
  {
   "cell_type": "code",
   "execution_count": 18,
   "id": "94ceca02",
   "metadata": {},
   "outputs": [
    {
     "data": {
      "text/plain": [
       "5"
      ]
     },
     "execution_count": 18,
     "metadata": {},
     "output_type": "execute_result"
    }
   ],
   "source": [
    "# 最大値\n",
    "np_arr1.max()"
   ]
  },
  {
   "cell_type": "code",
   "execution_count": 19,
   "id": "908ec06e",
   "metadata": {},
   "outputs": [
    {
     "data": {
      "text/plain": [
       "1"
      ]
     },
     "execution_count": 19,
     "metadata": {},
     "output_type": "execute_result"
    }
   ],
   "source": [
    "# 最小値\n",
    "np_arr1.min()"
   ]
  },
  {
   "cell_type": "code",
   "execution_count": 20,
   "id": "4d4ec59d",
   "metadata": {},
   "outputs": [
    {
     "data": {
      "text/plain": [
       "3.0"
      ]
     },
     "execution_count": 20,
     "metadata": {},
     "output_type": "execute_result"
    }
   ],
   "source": [
    "# 平均\n",
    "np_arr1.mean()"
   ]
  },
  {
   "cell_type": "code",
   "execution_count": 21,
   "id": "2d5bbc8d",
   "metadata": {},
   "outputs": [
    {
     "data": {
      "text/plain": [
       "9"
      ]
     },
     "execution_count": 21,
     "metadata": {},
     "output_type": "execute_result"
    }
   ],
   "source": [
    "# 合計\n",
    "np_arr1.sum()"
   ]
  },
  {
   "cell_type": "code",
   "execution_count": 22,
   "id": "ff2125f7",
   "metadata": {},
   "outputs": [
    {
     "data": {
      "text/plain": [
       "2.6666666666666665"
      ]
     },
     "execution_count": 22,
     "metadata": {},
     "output_type": "execute_result"
    }
   ],
   "source": [
    "# 分散\n",
    "np_arr1.var()"
   ]
  },
  {
   "cell_type": "code",
   "execution_count": 23,
   "id": "bdf25977",
   "metadata": {},
   "outputs": [
    {
     "data": {
      "text/plain": [
       "1.632993161855452"
      ]
     },
     "execution_count": 23,
     "metadata": {},
     "output_type": "execute_result"
    }
   ],
   "source": [
    "# 標準偏差\n",
    "np_arr1.std()"
   ]
  },
  {
   "cell_type": "markdown",
   "id": "a70bb654",
   "metadata": {},
   "source": [
    "ファンシーインデックス"
   ]
  },
  {
   "cell_type": "code",
   "execution_count": 25,
   "id": "28a93237",
   "metadata": {},
   "outputs": [
    {
     "data": {
      "text/plain": [
       "array([[  0, 100],\n",
       "       [200, 300]])"
      ]
     },
     "execution_count": 25,
     "metadata": {},
     "output_type": "execute_result"
    }
   ],
   "source": [
    "arr3 = [[0, 100], [200, 300]]\n",
    "np_arr3 = np.array(arr3)\n",
    "np_arr3"
   ]
  },
  {
   "cell_type": "code",
   "execution_count": 26,
   "id": "a1a58dfe",
   "metadata": {},
   "outputs": [
    {
     "data": {
      "text/plain": [
       "100"
      ]
     },
     "execution_count": 26,
     "metadata": {},
     "output_type": "execute_result"
    }
   ],
   "source": [
    "# 通常のリストの場合、arr3から100を取り出したい\n",
    "arr3[0][1]"
   ]
  },
  {
   "cell_type": "code",
   "execution_count": 27,
   "id": "1ff88e49",
   "metadata": {},
   "outputs": [
    {
     "data": {
      "text/plain": [
       "100"
      ]
     },
     "execution_count": 27,
     "metadata": {},
     "output_type": "execute_result"
    }
   ],
   "source": [
    "# ndarrayの場合も同じです\n",
    "np_arr3[0][1]"
   ]
  },
  {
   "cell_type": "code",
   "execution_count": 28,
   "id": "94bd9594",
   "metadata": {},
   "outputs": [
    {
     "data": {
      "text/plain": [
       "100"
      ]
     },
     "execution_count": 28,
     "metadata": {},
     "output_type": "execute_result"
    }
   ],
   "source": [
    "# 加えてndarrayの場合は、下記の記述でもokです（通常のリストではnot okです）\n",
    "np_arr3[0, 1] #[row, column]"
   ]
  },
  {
   "cell_type": "markdown",
   "id": "28c17db2",
   "metadata": {},
   "source": [
    "Numpy ndarrayは各次元の要素の形状を一定に"
   ]
  },
  {
   "cell_type": "code",
   "execution_count": 29,
   "id": "e295a1d2",
   "metadata": {},
   "outputs": [
    {
     "data": {
      "text/plain": [
       "[0, [100, 200], [300, 400, 500]]"
      ]
     },
     "execution_count": 29,
     "metadata": {},
     "output_type": "execute_result"
    }
   ],
   "source": [
    "arr4 = [0, [100, 200], [300, 400, 500]]\n",
    "arr4"
   ]
  },
  {
   "cell_type": "code",
   "execution_count": 31,
   "id": "c47ab304",
   "metadata": {},
   "outputs": [],
   "source": [
    "# np.array(arr4)\n",
    "# error"
   ]
  },
  {
   "cell_type": "code",
   "execution_count": 33,
   "id": "3d578ba6",
   "metadata": {},
   "outputs": [],
   "source": [
    "# arr5 = [[3, [1, 2]], [3, [4, 5]]]\n",
    "# np.array(arr5)\n",
    "# error"
   ]
  },
  {
   "cell_type": "code",
   "execution_count": 34,
   "id": "dac8c1b4",
   "metadata": {},
   "outputs": [
    {
     "data": {
      "text/plain": [
       "array([[3, list([1, 2])],\n",
       "       [3, list([4, 5])]], dtype=object)"
      ]
     },
     "execution_count": 34,
     "metadata": {},
     "output_type": "execute_result"
    }
   ],
   "source": [
    "arr5 = [[3, [1, 2]], [3, [4, 5]]]\n",
    "np.array(arr5, dtype=object)"
   ]
  },
  {
   "cell_type": "markdown",
   "id": "0ab71d25",
   "metadata": {},
   "source": [
    "Numpy ndarrayのデータタイプ変換"
   ]
  },
  {
   "cell_type": "code",
   "execution_count": 35,
   "id": "d287170d",
   "metadata": {},
   "outputs": [
    {
     "data": {
      "text/plain": [
       "array([[0., 1., 2.],\n",
       "       [3., 4., 5.]])"
      ]
     },
     "execution_count": 35,
     "metadata": {},
     "output_type": "execute_result"
    }
   ],
   "source": [
    "arr6 = [[0, 1, 2.0], [3, 4, 5]]\n",
    "np_arr6 = np.array(arr6)\n",
    "np_arr6"
   ]
  },
  {
   "cell_type": "code",
   "execution_count": 37,
   "id": "2c51457b",
   "metadata": {},
   "outputs": [
    {
     "data": {
      "text/plain": [
       "dtype('float64')"
      ]
     },
     "execution_count": 37,
     "metadata": {},
     "output_type": "execute_result"
    }
   ],
   "source": [
    "np_arr6.dtype\n",
    "# 浮動小数となるはずです"
   ]
  },
  {
   "cell_type": "code",
   "execution_count": 38,
   "id": "9f3fa5f4",
   "metadata": {},
   "outputs": [
    {
     "data": {
      "text/plain": [
       "array([[0, 1, 2],\n",
       "       [3, 4, 5]])"
      ]
     },
     "execution_count": 38,
     "metadata": {},
     "output_type": "execute_result"
    }
   ],
   "source": [
    "# 浮動小数を整数に変えてみる\n",
    "np_arr6.astype('int')"
   ]
  },
  {
   "cell_type": "code",
   "execution_count": 39,
   "id": "add9ed43",
   "metadata": {},
   "outputs": [
    {
     "data": {
      "text/plain": [
       "dtype('float64')"
      ]
     },
     "execution_count": 39,
     "metadata": {},
     "output_type": "execute_result"
    }
   ],
   "source": [
    "np_arr6.dtype"
   ]
  },
  {
   "cell_type": "code",
   "execution_count": 40,
   "id": "c995dec7",
   "metadata": {},
   "outputs": [
    {
     "data": {
      "text/plain": [
       "array([[0, 1, 2],\n",
       "       [3, 4, 5]])"
      ]
     },
     "execution_count": 40,
     "metadata": {},
     "output_type": "execute_result"
    }
   ],
   "source": [
    "np_arr6 = np_arr6.astype('int')\n",
    "np_arr6"
   ]
  },
  {
   "cell_type": "code",
   "execution_count": 41,
   "id": "ffb175fc",
   "metadata": {},
   "outputs": [
    {
     "data": {
      "text/plain": [
       "array([['0', '1', '2'],\n",
       "       ['3', '4', '5']], dtype='<U21')"
      ]
     },
     "execution_count": 41,
     "metadata": {},
     "output_type": "execute_result"
    }
   ],
   "source": [
    "arr7 = [[0, 1, '2'], [3, 4, 5]]\n",
    "np_arr7 = np.array(arr7)\n",
    "np_arr7"
   ]
  },
  {
   "cell_type": "code",
   "execution_count": 42,
   "id": "f862c258",
   "metadata": {},
   "outputs": [
    {
     "data": {
      "text/plain": [
       "dtype('<U21')"
      ]
     },
     "execution_count": 42,
     "metadata": {},
     "output_type": "execute_result"
    }
   ],
   "source": [
    "# arrayの中にstringが混ざった場合は、datatypeが'<U21':Unicodeとなります\n",
    "# その場合はndarrayのメソッドが使えないので、datatypeを変更する必要があります。\n",
    "np_arr7.dtype"
   ]
  },
  {
   "cell_type": "code",
   "execution_count": 45,
   "id": "343b92c9",
   "metadata": {},
   "outputs": [
    {
     "data": {
      "text/plain": [
       "array([[0, 1, 2],\n",
       "       [3, 4, 5]])"
      ]
     },
     "execution_count": 45,
     "metadata": {},
     "output_type": "execute_result"
    }
   ],
   "source": [
    "# arrayの全ての値を整数型に変更\n",
    "np_arr7 = np_arr7.astype('int')\n",
    "np_arr7"
   ]
  },
  {
   "cell_type": "code",
   "execution_count": 46,
   "id": "69f340a8",
   "metadata": {},
   "outputs": [
    {
     "data": {
      "text/plain": [
       "dtype('int64')"
      ]
     },
     "execution_count": 46,
     "metadata": {},
     "output_type": "execute_result"
    }
   ],
   "source": [
    "np_arr7.dtype"
   ]
  },
  {
   "cell_type": "code",
   "execution_count": 47,
   "id": "bc3cf55a",
   "metadata": {},
   "outputs": [
    {
     "data": {
      "text/plain": [
       "array([[0, 1, 2],\n",
       "       [3, 4, 5]], dtype=object)"
      ]
     },
     "execution_count": 47,
     "metadata": {},
     "output_type": "execute_result"
    }
   ],
   "source": [
    "# arrayの全ての値をobjectに変更\n",
    "np_arr7 = np_arr7.astype('object')\n",
    "np_arr7"
   ]
  },
  {
   "cell_type": "code",
   "execution_count": 48,
   "id": "8412a90f",
   "metadata": {},
   "outputs": [
    {
     "data": {
      "text/plain": [
       "dtype('O')"
      ]
     },
     "execution_count": 48,
     "metadata": {},
     "output_type": "execute_result"
    }
   ],
   "source": [
    "np_arr7.dtype"
   ]
  },
  {
   "cell_type": "code",
   "execution_count": 49,
   "id": "17bb91ff",
   "metadata": {},
   "outputs": [
    {
     "data": {
      "text/plain": [
       "dtype('<U1')"
      ]
     },
     "execution_count": 49,
     "metadata": {},
     "output_type": "execute_result"
    }
   ],
   "source": [
    "# np_arr7.astype('str').dtype"
   ]
  },
  {
   "cell_type": "code",
   "execution_count": 50,
   "id": "dfcefcde",
   "metadata": {},
   "outputs": [],
   "source": [
    "# データタイプを揃えるのが重要である"
   ]
  },
  {
   "cell_type": "markdown",
   "id": "f3f21f22",
   "metadata": {},
   "source": [
    "---\n",
    "<a id=2></a>\n",
    "[Topへ](#0)\n",
    "\n",
    "---\n",
    "## 2.Numpyの関数で数列を作成"
   ]
  },
  {
   "cell_type": "markdown",
   "id": "6cb9efd3",
   "metadata": {},
   "source": [
    "* np.arange(start, stop, step) : 等差数列\n",
    "* np.linspace(start, stop, size) : 範囲と生成数から作成\n",
    "---"
   ]
  },
  {
   "cell_type": "markdown",
   "id": "76c20373",
   "metadata": {},
   "source": [
    "np.arange(start, stop, step) : 等差数列（正の値のみ）"
   ]
  },
  {
   "cell_type": "code",
   "execution_count": 51,
   "id": "aa071ddd",
   "metadata": {},
   "outputs": [
    {
     "data": {
      "text/plain": [
       "array([0, 1, 2, 3, 4, 5, 6, 7])"
      ]
     },
     "execution_count": 51,
     "metadata": {},
     "output_type": "execute_result"
    }
   ],
   "source": [
    "np.arange(8)\n",
    "# start = 0, stop=8(含まれない), step = 1"
   ]
  },
  {
   "cell_type": "code",
   "execution_count": 52,
   "id": "51cc9945",
   "metadata": {},
   "outputs": [
    {
     "data": {
      "text/plain": [
       "array([0, 1, 2, 3, 4, 5, 6, 7])"
      ]
     },
     "execution_count": 52,
     "metadata": {},
     "output_type": "execute_result"
    }
   ],
   "source": [
    "np.arange(0, 8, 1)\n",
    "# start = 0, stop=8(含まれない), step = 1"
   ]
  },
  {
   "cell_type": "code",
   "execution_count": 53,
   "id": "bc90e0a3",
   "metadata": {},
   "outputs": [
    {
     "data": {
      "text/plain": [
       "array([-5, -3, -1,  1,  3])"
      ]
     },
     "execution_count": 53,
     "metadata": {},
     "output_type": "execute_result"
    }
   ],
   "source": [
    "np.arange(-5, 5, 2)"
   ]
  },
  {
   "cell_type": "code",
   "execution_count": 54,
   "id": "f9ba7d41",
   "metadata": {},
   "outputs": [
    {
     "data": {
      "text/plain": [
       "array([0. , 0.5, 1. , 1.5, 2. , 2.5, 3. , 3.5, 4. , 4.5, 5. , 5.5, 6. ])"
      ]
     },
     "execution_count": 54,
     "metadata": {},
     "output_type": "execute_result"
    }
   ],
   "source": [
    "np.arange(0, 6.1, 0.5)"
   ]
  },
  {
   "cell_type": "markdown",
   "id": "6a03f72a",
   "metadata": {},
   "source": [
    "np.linspace(start, stop, size) : 範囲と生成数から作成"
   ]
  },
  {
   "cell_type": "code",
   "execution_count": 56,
   "id": "a8486767",
   "metadata": {},
   "outputs": [],
   "source": [
    "# np.linspace(8)\n",
    "# error"
   ]
  },
  {
   "cell_type": "code",
   "execution_count": 58,
   "id": "d1a65e84",
   "metadata": {},
   "outputs": [
    {
     "data": {
      "text/plain": [
       "array([0.        , 0.16326531, 0.32653061, 0.48979592, 0.65306122,\n",
       "       0.81632653, 0.97959184, 1.14285714, 1.30612245, 1.46938776,\n",
       "       1.63265306, 1.79591837, 1.95918367, 2.12244898, 2.28571429,\n",
       "       2.44897959, 2.6122449 , 2.7755102 , 2.93877551, 3.10204082,\n",
       "       3.26530612, 3.42857143, 3.59183673, 3.75510204, 3.91836735,\n",
       "       4.08163265, 4.24489796, 4.40816327, 4.57142857, 4.73469388,\n",
       "       4.89795918, 5.06122449, 5.2244898 , 5.3877551 , 5.55102041,\n",
       "       5.71428571, 5.87755102, 6.04081633, 6.20408163, 6.36734694,\n",
       "       6.53061224, 6.69387755, 6.85714286, 7.02040816, 7.18367347,\n",
       "       7.34693878, 7.51020408, 7.67346939, 7.83673469, 8.        ])"
      ]
     },
     "execution_count": 58,
     "metadata": {},
     "output_type": "execute_result"
    }
   ],
   "source": [
    "np.linspace(0, 8)\n",
    "# 50個の値を出してくれます\n",
    "# parameter: の num=50がデフォルトであるため（デフォルトでサイズが50となる）"
   ]
  },
  {
   "cell_type": "code",
   "execution_count": 59,
   "id": "b57b0e0f",
   "metadata": {},
   "outputs": [
    {
     "data": {
      "text/plain": [
       "array([0.        , 0.55555556, 1.11111111, 1.66666667, 2.22222222,\n",
       "       2.77777778, 3.33333333, 3.88888889, 4.44444444, 5.        ])"
      ]
     },
     "execution_count": 59,
     "metadata": {},
     "output_type": "execute_result"
    }
   ],
   "source": [
    "# 0から10まで10分割したいです\n",
    "np.linspace(0, 5, 10)\n",
    "# stopを含む"
   ]
  },
  {
   "cell_type": "code",
   "execution_count": 61,
   "id": "d24ac37d",
   "metadata": {},
   "outputs": [
    {
     "data": {
      "text/plain": [
       "array([0. , 0.5, 1. , 1.5, 2. , 2.5, 3. , 3.5, 4. , 4.5])"
      ]
     },
     "execution_count": 61,
     "metadata": {},
     "output_type": "execute_result"
    }
   ],
   "source": [
    "# endを含みたくない時は\n",
    "np.linspace(0, 5, 10, endpoint=False)"
   ]
  },
  {
   "cell_type": "markdown",
   "id": "a96367d0",
   "metadata": {},
   "source": [
    "---\n",
    "<a id=3></a>\n",
    "[Topへ](#0)\n",
    "\n",
    "---\n",
    "## 3.Randomモジュールによる乱数Arrayの作成"
   ]
  },
  {
   "cell_type": "markdown",
   "id": "e5cf2532",
   "metadata": {},
   "source": [
    "* np.random.randint(low, high, size): 整数\n",
    "* 乱数シード\n",
    "* np.random.rand(size) : 0以上1未満 \n",
    "* np.random.randn(size) : 平均0、標準偏差1、正規分布に近づく数列  \n",
    "* np.random.normal(average, satandard_deviation, size) : 平均と標準偏差を指定、正規分布に近づく数列\n",
    "* np.random.uniform(low, high, size) : 範囲と生成数を指定\n",
    "* np.random.choice(array, size) : Listの値をランダムに選択\n",
    "---"
   ]
  },
  {
   "cell_type": "markdown",
   "id": "48445f81",
   "metadata": {},
   "source": [
    "np.random.randint(low, high, size): 整数"
   ]
  },
  {
   "cell_type": "code",
   "execution_count": 72,
   "id": "0a93eff2",
   "metadata": {},
   "outputs": [
    {
     "data": {
      "text/plain": [
       "17"
      ]
     },
     "execution_count": 72,
     "metadata": {},
     "output_type": "execute_result"
    }
   ],
   "source": [
    "np.random.randint(10, 20)\n",
    "# 10から20の間の整数1個をランダムに出す"
   ]
  },
  {
   "cell_type": "code",
   "execution_count": 73,
   "id": "19120dd8",
   "metadata": {},
   "outputs": [
    {
     "data": {
      "text/plain": [
       "array([18, 18, 10, 14, 18])"
      ]
     },
     "execution_count": 73,
     "metadata": {},
     "output_type": "execute_result"
    }
   ],
   "source": [
    "# サイズを指定して10から20の間の整数を出す\n",
    "np.random.randint(10, 20, 5)"
   ]
  },
  {
   "cell_type": "code",
   "execution_count": 75,
   "id": "839b069c",
   "metadata": {},
   "outputs": [
    {
     "data": {
      "text/plain": [
       "array([[13, 14, 12, 17],\n",
       "       [19, 13, 12, 18],\n",
       "       [18, 13, 19, 16]])"
      ]
     },
     "execution_count": 75,
     "metadata": {},
     "output_type": "execute_result"
    }
   ],
   "source": [
    "# 3行4列の行列\n",
    "np.random.randint(10, 20, (3, 4))"
   ]
  },
  {
   "cell_type": "code",
   "execution_count": 76,
   "id": "d57fc1d8",
   "metadata": {},
   "outputs": [
    {
     "data": {
      "text/plain": [
       "array([[[14, 10],\n",
       "        [19, 11],\n",
       "        [19, 12],\n",
       "        [17, 13]],\n",
       "\n",
       "       [[13, 15],\n",
       "        [18, 11],\n",
       "        [12, 15],\n",
       "        [11, 18]],\n",
       "\n",
       "       [[18, 13],\n",
       "        [12, 13],\n",
       "        [16, 15],\n",
       "        [14, 10]]])"
      ]
     },
     "execution_count": 76,
     "metadata": {},
     "output_type": "execute_result"
    }
   ],
   "source": [
    "# 3次元配列\n",
    "np.random.randint(10, 20, (3, 4, 2))"
   ]
  },
  {
   "cell_type": "markdown",
   "id": "54b11ddd",
   "metadata": {},
   "source": [
    "乱数シード"
   ]
  },
  {
   "cell_type": "code",
   "execution_count": 81,
   "id": "a4396762",
   "metadata": {},
   "outputs": [
    {
     "data": {
      "text/plain": [
       "16"
      ]
     },
     "execution_count": 81,
     "metadata": {},
     "output_type": "execute_result"
    }
   ],
   "source": [
    "np.random.seed(17)\n",
    "np.random.randint(1, 100)\n",
    "# seedに値を指定して何度実行して同じ乱数が出るようにする"
   ]
  },
  {
   "cell_type": "code",
   "execution_count": 84,
   "id": "c7bfa33a",
   "metadata": {},
   "outputs": [
    {
     "data": {
      "text/plain": [
       "58"
      ]
     },
     "execution_count": 84,
     "metadata": {},
     "output_type": "execute_result"
    }
   ],
   "source": [
    "# 別のセールで乱数の整数を出す場合とは違う\n",
    "# 実行すると毎回違う乱数の整数を生成してくれる\n",
    "np.random.randint(1, 100)"
   ]
  },
  {
   "cell_type": "markdown",
   "id": "da09e3da",
   "metadata": {},
   "source": [
    "np.random.rand(size) : 0以上1未満"
   ]
  },
  {
   "cell_type": "code",
   "execution_count": 85,
   "id": "cc9ad4ce",
   "metadata": {},
   "outputs": [
    {
     "data": {
      "text/plain": [
       "array([0.06790036, 0.78698546, 0.65633352, 0.6375209 , 0.57560289])"
      ]
     },
     "execution_count": 85,
     "metadata": {},
     "output_type": "execute_result"
    }
   ],
   "source": [
    "np.random.rand(5)"
   ]
  },
  {
   "cell_type": "code",
   "execution_count": 89,
   "id": "6dca72b5",
   "metadata": {},
   "outputs": [
    {
     "data": {
      "text/plain": [
       "array([[0.13042928, 0.98438353, 0.06570232],\n",
       "       [0.57928408, 0.58077483, 0.95433787]])"
      ]
     },
     "execution_count": 89,
     "metadata": {},
     "output_type": "execute_result"
    }
   ],
   "source": [
    "# 0以上1未満の値の乱数で構成される2次元の配列の生成\n",
    "np.random.rand(2, 3)"
   ]
  },
  {
   "cell_type": "code",
   "execution_count": 88,
   "id": "9d86681d",
   "metadata": {},
   "outputs": [
    {
     "data": {
      "text/plain": [
       "array([[[0.56799112, 0.08233975, 0.54499857, 0.15895874],\n",
       "        [0.67676239, 0.11847226, 0.44499607, 0.88798243]],\n",
       "\n",
       "       [[0.79726773, 0.06797873, 0.96078776, 0.65920539],\n",
       "        [0.71877608, 0.74357677, 0.88773635, 0.13394567]],\n",
       "\n",
       "       [[0.77697458, 0.83799151, 0.82930476, 0.029157  ],\n",
       "        [0.39037449, 0.43725199, 0.52063506, 0.49287267]]])"
      ]
     },
     "execution_count": 88,
     "metadata": {},
     "output_type": "execute_result"
    }
   ],
   "source": [
    "# 0以上1未満の値の乱数で構成される3次元の配列の生成\n",
    "np.random.rand(3, 2, 4)"
   ]
  },
  {
   "cell_type": "markdown",
   "id": "c91ed918",
   "metadata": {},
   "source": [
    "np.random.randn(size) : 平均0、標準偏差1、正規分布に近づく数列  \n",
    "\n",
    "    ※ 分散    ：「各数値の平均との差」を平方（2乗）した値の平均（平方するのはプラスの値で測るため）  \n",
    "    ※ 標準偏差：平均からのばらつき具合を示す指標。分散の正の平方根  \n",
    "    ※ 正規分布：平均値の度数を中心に、正負の値の度数が同程度に広がる分布      "
   ]
  },
  {
   "cell_type": "code",
   "execution_count": 107,
   "id": "87affd40",
   "metadata": {},
   "outputs": [
    {
     "data": {
      "text/plain": [
       "5.0"
      ]
     },
     "execution_count": 107,
     "metadata": {},
     "output_type": "execute_result"
    }
   ],
   "source": [
    "values = np.array([1, 3, 5, 7, 9])\n",
    "mean = values.mean()\n",
    "mean"
   ]
  },
  {
   "cell_type": "code",
   "execution_count": 112,
   "id": "6489d9d2",
   "metadata": {},
   "outputs": [
    {
     "data": {
      "text/plain": [
       "40"
      ]
     },
     "execution_count": 112,
     "metadata": {},
     "output_type": "execute_result"
    }
   ],
   "source": [
    "# 「各値と平均値の差の二乗」の合計\n",
    "sum = (1 - 5)**2  + (3 - 5)**2 + (5 - 5)**2 + (7 - 5)**2 + (9 - 5)**2\n",
    "sum"
   ]
  },
  {
   "cell_type": "code",
   "execution_count": 113,
   "id": "fe7fe833",
   "metadata": {},
   "outputs": [
    {
     "data": {
      "text/plain": [
       "8.0"
      ]
     },
     "execution_count": 113,
     "metadata": {},
     "output_type": "execute_result"
    }
   ],
   "source": [
    "# その平均が分散\n",
    "var = sum/len(values)\n",
    "var"
   ]
  },
  {
   "cell_type": "code",
   "execution_count": 114,
   "id": "9e393366",
   "metadata": {},
   "outputs": [
    {
     "data": {
      "text/plain": [
       "2.8284271247461903"
      ]
     },
     "execution_count": 114,
     "metadata": {},
     "output_type": "execute_result"
    }
   ],
   "source": [
    "# 分散の正の平方根が標準偏差\n",
    "std = np.sqrt(var)\n",
    "std"
   ]
  },
  {
   "cell_type": "code",
   "execution_count": 119,
   "id": "d7930c8e",
   "metadata": {},
   "outputs": [
    {
     "name": "stdout",
     "output_type": "stream",
     "text": [
      "分散: 8.0 \n",
      "標準偏差: 2.83\n"
     ]
    }
   ],
   "source": [
    "values = np.array([1, 3, 5, 7, 9])\n",
    "mean = values.mean()\n",
    "sum = ((values - mean)**2).sum()\n",
    "var = sum/len(values)\n",
    "std = np.sqrt(var)\n",
    "print(f'分散: {var} \\n標準偏差: {std:.2f}')"
   ]
  },
  {
   "cell_type": "code",
   "execution_count": 120,
   "id": "6de47786",
   "metadata": {},
   "outputs": [
    {
     "data": {
      "text/plain": [
       "0.006840273446954296"
      ]
     },
     "execution_count": 120,
     "metadata": {},
     "output_type": "execute_result"
    }
   ],
   "source": [
    "# randn: 平均:0, 標準偏差:1の正規分布に近い分布\n",
    "np.random.randn(1000).mean()"
   ]
  },
  {
   "cell_type": "code",
   "execution_count": 122,
   "id": "37b68f60",
   "metadata": {},
   "outputs": [
    {
     "data": {
      "image/png": "[encoded data removed]",
      "text/plain": [
       "<Figure size 640x480 with 1 Axes>"
      ]
     },
     "metadata": {},
     "output_type": "display_data"
    }
   ],
   "source": [
    "np.random.seed(17)\n",
    "plt.hist(np.random.randn(1000), bins=20)\n",
    "plt.show()"
   ]
  },
  {
   "cell_type": "markdown",
   "id": "7b0efdd2",
   "metadata": {},
   "source": [
    " np.random.normal(average, satandard_deviation, size) : 平均と標準偏差を指定、正規分布に近づく数列"
   ]
  },
  {
   "cell_type": "code",
   "execution_count": 123,
   "id": "b3416710",
   "metadata": {},
   "outputs": [
    {
     "data": {
      "text/plain": [
       "array([50.20519082, 49.62717611, 50.66191469, 49.69196425, 50.15201394,\n",
       "       49.00409711, 49.57827754, 51.33262148, 50.29294534, 48.83167682])"
      ]
     },
     "execution_count": 123,
     "metadata": {},
     "output_type": "execute_result"
    }
   ],
   "source": [
    "np.random.normal(50, 1, 10)"
   ]
  },
  {
   "cell_type": "code",
   "execution_count": 124,
   "id": "b391f6e0",
   "metadata": {},
   "outputs": [
    {
     "data": {
      "text/plain": [
       "array([[10.50995435, 66.50950984, 34.12534389, 53.44124834, 32.2554948 ],\n",
       "       [65.88857107, 56.07838467, 30.17273726, 44.25715629, 33.25875306]])"
      ]
     },
     "execution_count": 124,
     "metadata": {},
     "output_type": "execute_result"
    }
   ],
   "source": [
    "np.random.normal(50, 20, (2, 5))"
   ]
  },
  {
   "cell_type": "code",
   "execution_count": 126,
   "id": "a4457b67",
   "metadata": {},
   "outputs": [
    {
     "data": {
      "image/png": "[encoded data removed]",
      "text/plain": [
       "<Figure size 640x480 with 1 Axes>"
      ]
     },
     "metadata": {},
     "output_type": "display_data"
    }
   ],
   "source": [
    "plt.hist(np.random.normal(100, 4, 1000), bins=30)\n",
    "plt.show()"
   ]
  },
  {
   "cell_type": "code",
   "execution_count": 127,
   "id": "e1a16ac0",
   "metadata": {},
   "outputs": [
    {
     "data": {
      "image/png": "[encoded data removed]",
      "text/plain": [
       "<Figure size 640x480 with 1 Axes>"
      ]
     },
     "metadata": {},
     "output_type": "display_data"
    }
   ],
   "source": [
    "plt.hist(np.random.normal(100, 12, 1000), bins=30)\n",
    "plt.show()"
   ]
  },
  {
   "cell_type": "code",
   "execution_count": 128,
   "id": "e30fc279",
   "metadata": {},
   "outputs": [
    {
     "data": {
      "image/png": "[encoded data removed]",
      "text/plain": [
       "<Figure size 640x480 with 1 Axes>"
      ]
     },
     "metadata": {},
     "output_type": "display_data"
    }
   ],
   "source": [
    "plt.hist(np.random.normal(100, 20, 1000), bins=30)\n",
    "plt.show()"
   ]
  },
  {
   "cell_type": "markdown",
   "id": "bc7a7b91",
   "metadata": {},
   "source": [
    "np.random.uniform(low, high, size) : 範囲と生成数を指定、連続一様分布に近づく"
   ]
  },
  {
   "cell_type": "code",
   "execution_count": 90,
   "id": "3028fd18",
   "metadata": {
    "scrolled": true
   },
   "outputs": [
    {
     "data": {
      "text/plain": [
       "array([3.18466267, 2.4999524 , 7.30318531, 2.09417716, 6.77356788,\n",
       "       6.60914264, 7.23226272, 7.49666052, 3.64287916, 3.41828676,\n",
       "       3.86311906, 6.29385955, 2.49641294, 6.05291866, 7.15114801,\n",
       "       6.1573813 , 6.71050215, 4.11968751, 3.32115241, 3.47223434,\n",
       "       6.36447509, 2.38476664, 4.72242477, 4.92606398, 5.84524898,\n",
       "       2.63701311, 5.44165963, 7.76207476, 5.09408348, 5.41895028,\n",
       "       7.92803997, 6.99722561, 4.98886209, 2.48090803, 7.22628196,\n",
       "       6.27851845, 6.39267226, 6.94171992, 6.46987527, 4.47837577,\n",
       "       5.088232  , 7.07924897, 7.15317234, 3.86302168, 2.71631836,\n",
       "       5.12575689, 4.69370041, 7.38372365, 4.95861403, 5.02686511,\n",
       "       4.1907419 , 6.69803673, 7.68753812, 2.78009008, 5.96667604,\n",
       "       2.98239385, 3.85363259, 7.79978093, 4.89712805, 5.24448467,\n",
       "       6.26703881, 6.12459046, 2.22181489, 7.3290234 , 3.13150525,\n",
       "       6.69216655, 5.86355673, 4.91239392, 7.57426967, 3.61928848,\n",
       "       6.88507392, 6.17025244, 3.41318715, 7.71981615, 5.51261425,\n",
       "       5.49839881, 2.94325725, 4.55144278, 3.41013149, 5.60304396,\n",
       "       4.16365054, 3.01324069, 4.08347869, 3.28710212, 6.76716976,\n",
       "       6.75025591, 2.98724214, 6.50218429, 2.33537971, 3.39482255,\n",
       "       5.90057859, 6.30945058, 4.88029678, 4.02568801, 4.33823774,\n",
       "       7.15278316, 5.06831367, 7.24814009, 7.67863132, 7.61440227])"
      ]
     },
     "execution_count": 90,
     "metadata": {},
     "output_type": "execute_result"
    }
   ],
   "source": [
    "np.random.uniform(2, 8, 100)"
   ]
  },
  {
   "cell_type": "code",
   "execution_count": 104,
   "id": "c0719127",
   "metadata": {},
   "outputs": [
    {
     "data": {
      "image/png": "[encoded data removed]",
      "text/plain": [
       "<Figure size 1000x500 with 1 Axes>"
      ]
     },
     "metadata": {},
     "output_type": "display_data"
    }
   ],
   "source": [
    "import matplotlib.pyplot as plt\n",
    "plt.figure(figsize=(10, 5))\n",
    "plt.hist(np.random.uniform(2, 8, 1000), bins=10, density=True)\n",
    "plt.show()"
   ]
  },
  {
   "cell_type": "markdown",
   "id": "04669a8c",
   "metadata": {},
   "source": [
    "np.random.choice(array, size) : Listの値をランダムに選択"
   ]
  },
  {
   "cell_type": "code",
   "execution_count": 105,
   "id": "f02f5344",
   "metadata": {},
   "outputs": [
    {
     "data": {
      "text/plain": [
       "array([ 87,  16, 233, 233,  87])"
      ]
     },
     "execution_count": 105,
     "metadata": {},
     "output_type": "execute_result"
    }
   ],
   "source": [
    "I = [16, 87, 233]\n",
    "np.random.choice(I, 5)"
   ]
  },
  {
   "cell_type": "code",
   "execution_count": 106,
   "id": "f89025fd",
   "metadata": {},
   "outputs": [
    {
     "data": {
      "text/plain": [
       "array([[233,  16],\n",
       "       [ 87,  16],\n",
       "       [ 87,  87]])"
      ]
     },
     "execution_count": 106,
     "metadata": {},
     "output_type": "execute_result"
    }
   ],
   "source": [
    "np.random.choice(I, (3, 2))"
   ]
  },
  {
   "cell_type": "markdown",
   "id": "a1d0ca59",
   "metadata": {},
   "source": [
    "---\n",
    "<a id=4></a>\n",
    "[Topへ](#0)\n",
    "\n",
    "---\n",
    "## 4.Numpy ndarrayの次元、形状、サイズ"
   ]
  },
  {
   "cell_type": "markdown",
   "id": "f4c4c4ba",
   "metadata": {},
   "source": [
    "* 次元\n",
    "* 形状\n",
    "* サイズ（要素数）\n",
    "* 形状の変換 \n",
    "---"
   ]
  },
  {
   "cell_type": "code",
   "execution_count": 129,
   "id": "1d2318cb",
   "metadata": {
    "scrolled": true
   },
   "outputs": [
    {
     "data": {
      "text/plain": [
       "array([[[0.58331719, 0.36600837, 0.83399253, 0.8425419 ],\n",
       "        [0.08843208, 0.76127748, 0.63655481, 0.6986564 ],\n",
       "        [0.45591904, 0.86591134, 0.06871871, 0.75303291]],\n",
       "\n",
       "       [[0.95739162, 0.44473976, 0.6230473 , 0.14670426],\n",
       "        [0.59909626, 0.83431069, 0.81374955, 0.99486359],\n",
       "        [0.03068163, 0.21642026, 0.41536095, 0.60568129]]])"
      ]
     },
     "execution_count": 129,
     "metadata": {},
     "output_type": "execute_result"
    }
   ],
   "source": [
    "np_arr = np.random.rand(2, 3, 4)\n",
    "np_arr"
   ]
  },
  {
   "cell_type": "markdown",
   "id": "e785d42b",
   "metadata": {},
   "source": [
    "次元"
   ]
  },
  {
   "cell_type": "code",
   "execution_count": 130,
   "id": "7b720562",
   "metadata": {},
   "outputs": [
    {
     "data": {
      "text/plain": [
       "3"
      ]
     },
     "execution_count": 130,
     "metadata": {},
     "output_type": "execute_result"
    }
   ],
   "source": [
    "np_arr.ndim"
   ]
  },
  {
   "cell_type": "code",
   "execution_count": 132,
   "id": "55fa0d51",
   "metadata": {},
   "outputs": [
    {
     "data": {
      "text/plain": [
       "5"
      ]
     },
     "execution_count": 132,
     "metadata": {},
     "output_type": "execute_result"
    }
   ],
   "source": [
    "np.random.rand(2, 3, 4, 5, 6).ndim"
   ]
  },
  {
   "cell_type": "markdown",
   "id": "ed920438",
   "metadata": {},
   "source": [
    "形状"
   ]
  },
  {
   "cell_type": "code",
   "execution_count": 134,
   "id": "3ef3f27e",
   "metadata": {},
   "outputs": [
    {
     "data": {
      "text/plain": [
       "(2, 3, 4)"
      ]
     },
     "execution_count": 134,
     "metadata": {},
     "output_type": "execute_result"
    }
   ],
   "source": [
    "np_arr.shape"
   ]
  },
  {
   "cell_type": "code",
   "execution_count": 135,
   "id": "1b89c673",
   "metadata": {},
   "outputs": [
    {
     "data": {
      "text/plain": [
       "(3,)"
      ]
     },
     "execution_count": 135,
     "metadata": {},
     "output_type": "execute_result"
    }
   ],
   "source": [
    "np.array([1, 2, 3]).shape"
   ]
  },
  {
   "cell_type": "code",
   "execution_count": 137,
   "id": "29dfee28",
   "metadata": {},
   "outputs": [
    {
     "data": {
      "text/plain": [
       "1"
      ]
     },
     "execution_count": 137,
     "metadata": {},
     "output_type": "execute_result"
    }
   ],
   "source": [
    "np.array([1, 2, 3]).ndim"
   ]
  },
  {
   "cell_type": "code",
   "execution_count": 138,
   "id": "8485d047",
   "metadata": {},
   "outputs": [
    {
     "data": {
      "text/plain": [
       "(3, 2)"
      ]
     },
     "execution_count": 138,
     "metadata": {},
     "output_type": "execute_result"
    }
   ],
   "source": [
    "np.array([[1, 2], [3, 4], [5, 6]]).shape"
   ]
  },
  {
   "cell_type": "markdown",
   "id": "fa9d12b8",
   "metadata": {},
   "source": [
    "サイズ（要素数）"
   ]
  },
  {
   "cell_type": "code",
   "execution_count": 139,
   "id": "86673451",
   "metadata": {},
   "outputs": [
    {
     "data": {
      "text/plain": [
       "24"
      ]
     },
     "execution_count": 139,
     "metadata": {},
     "output_type": "execute_result"
    }
   ],
   "source": [
    "np_arr.size"
   ]
  },
  {
   "cell_type": "code",
   "execution_count": 140,
   "id": "a98f3267",
   "metadata": {},
   "outputs": [
    {
     "data": {
      "text/plain": [
       "6"
      ]
     },
     "execution_count": 140,
     "metadata": {},
     "output_type": "execute_result"
    }
   ],
   "source": [
    "np.array([[1, 2], [3, 4], [5, 6]]).size"
   ]
  },
  {
   "cell_type": "markdown",
   "id": "1a559575",
   "metadata": {},
   "source": [
    "形状の変換"
   ]
  },
  {
   "cell_type": "code",
   "execution_count": 141,
   "id": "560f55b7",
   "metadata": {
    "scrolled": true
   },
   "outputs": [
    {
     "data": {
      "text/plain": [
       "(2, 3, 4)"
      ]
     },
     "execution_count": 141,
     "metadata": {},
     "output_type": "execute_result"
    }
   ],
   "source": [
    "np_arr.shape"
   ]
  },
  {
   "cell_type": "code",
   "execution_count": 142,
   "id": "25e1ff3d",
   "metadata": {},
   "outputs": [
    {
     "data": {
      "text/plain": [
       "array([[0.58331719, 0.36600837, 0.83399253, 0.8425419 , 0.08843208,\n",
       "        0.76127748],\n",
       "       [0.63655481, 0.6986564 , 0.45591904, 0.86591134, 0.06871871,\n",
       "        0.75303291],\n",
       "       [0.95739162, 0.44473976, 0.6230473 , 0.14670426, 0.59909626,\n",
       "        0.83431069],\n",
       "       [0.81374955, 0.99486359, 0.03068163, 0.21642026, 0.41536095,\n",
       "        0.60568129]])"
      ]
     },
     "execution_count": 142,
     "metadata": {},
     "output_type": "execute_result"
    }
   ],
   "source": [
    "np_arr.reshape(4, 6)"
   ]
  },
  {
   "cell_type": "code",
   "execution_count": 143,
   "id": "670841bb",
   "metadata": {},
   "outputs": [
    {
     "data": {
      "text/plain": [
       "array([[[0.58331719, 0.36600837, 0.83399253, 0.8425419 ],\n",
       "        [0.08843208, 0.76127748, 0.63655481, 0.6986564 ],\n",
       "        [0.45591904, 0.86591134, 0.06871871, 0.75303291]],\n",
       "\n",
       "       [[0.95739162, 0.44473976, 0.6230473 , 0.14670426],\n",
       "        [0.59909626, 0.83431069, 0.81374955, 0.99486359],\n",
       "        [0.03068163, 0.21642026, 0.41536095, 0.60568129]]])"
      ]
     },
     "execution_count": 143,
     "metadata": {},
     "output_type": "execute_result"
    }
   ],
   "source": [
    "np_arr"
   ]
  },
  {
   "cell_type": "code",
   "execution_count": 144,
   "id": "b5a0caa9",
   "metadata": {},
   "outputs": [
    {
     "data": {
      "text/plain": [
       "array([[[ 1,  2],\n",
       "        [ 3,  4],\n",
       "        [ 5,  6]],\n",
       "\n",
       "       [[ 7,  8],\n",
       "        [ 9, 10],\n",
       "        [11, 12]]])"
      ]
     },
     "execution_count": 144,
     "metadata": {},
     "output_type": "execute_result"
    }
   ],
   "source": [
    "np_arrr = np.array([[[1, 2],\n",
    "                     [3, 4],\n",
    "                     [5, 6]],\n",
    "                    [[7, 8],\n",
    "                     [9, 10],\n",
    "                     [11, 12]]])\n",
    "np_arrr"
   ]
  },
  {
   "cell_type": "code",
   "execution_count": 149,
   "id": "4771e813",
   "metadata": {},
   "outputs": [
    {
     "data": {
      "text/plain": [
       "(2, 3, 2)"
      ]
     },
     "execution_count": 149,
     "metadata": {},
     "output_type": "execute_result"
    }
   ],
   "source": [
    "np_arrr.shape"
   ]
  },
  {
   "cell_type": "code",
   "execution_count": 150,
   "id": "66ff5fde",
   "metadata": {},
   "outputs": [
    {
     "data": {
      "text/plain": [
       "array([[[ 1,  2],\n",
       "        [ 7,  8]],\n",
       "\n",
       "       [[ 3,  4],\n",
       "        [ 9, 10]],\n",
       "\n",
       "       [[ 5,  6],\n",
       "        [11, 12]]])"
      ]
     },
     "execution_count": 150,
     "metadata": {},
     "output_type": "execute_result"
    }
   ],
   "source": [
    "np_arrr.transpose(1, 0, 2)\n",
    "# shape(3, 2, 2)"
   ]
  },
  {
   "cell_type": "code",
   "execution_count": 152,
   "id": "b983a0c9",
   "metadata": {},
   "outputs": [
    {
     "data": {
      "text/plain": [
       "array([[ 1],\n",
       "       [ 2],\n",
       "       [ 3],\n",
       "       [ 4],\n",
       "       [ 5],\n",
       "       [ 6],\n",
       "       [ 7],\n",
       "       [ 8],\n",
       "       [ 9],\n",
       "       [10],\n",
       "       [11],\n",
       "       [12]])"
      ]
     },
     "execution_count": 152,
     "metadata": {},
     "output_type": "execute_result"
    }
   ],
   "source": [
    "np_arrr.reshape(-1, 1)"
   ]
  },
  {
   "cell_type": "code",
   "execution_count": 153,
   "id": "e09b9e7c",
   "metadata": {},
   "outputs": [
    {
     "data": {
      "text/plain": [
       "array([[ 1,  2,  3,  4,  5,  6,  7,  8,  9, 10, 11, 12]])"
      ]
     },
     "execution_count": 153,
     "metadata": {},
     "output_type": "execute_result"
    }
   ],
   "source": [
    "np_arrr.reshape(1, -1)"
   ]
  },
  {
   "cell_type": "code",
   "execution_count": 154,
   "id": "51af1567",
   "metadata": {},
   "outputs": [
    {
     "data": {
      "text/plain": [
       "array([ 1,  2,  3,  4,  5,  6,  7,  8,  9, 10, 11, 12])"
      ]
     },
     "execution_count": 154,
     "metadata": {},
     "output_type": "execute_result"
    }
   ],
   "source": [
    "# 1次元の配列に変換\n",
    "np_arrr.reshape(-1)"
   ]
  },
  {
   "cell_type": "code",
   "execution_count": 155,
   "id": "9516139d",
   "metadata": {},
   "outputs": [
    {
     "data": {
      "text/plain": [
       "array([ 1,  2,  3,  4,  5,  6,  7,  8,  9, 10, 11, 12])"
      ]
     },
     "execution_count": 155,
     "metadata": {},
     "output_type": "execute_result"
    }
   ],
   "source": [
    "np_arrr.ravel()"
   ]
  },
  {
   "cell_type": "code",
   "execution_count": 156,
   "id": "40355a48",
   "metadata": {},
   "outputs": [
    {
     "data": {
      "text/plain": [
       "array([ 1,  2,  3,  4,  5,  6,  7,  8,  9, 10, 11, 12])"
      ]
     },
     "execution_count": 156,
     "metadata": {},
     "output_type": "execute_result"
    }
   ],
   "source": [
    "np_arrr.flatten()"
   ]
  },
  {
   "cell_type": "markdown",
   "id": "731d265c",
   "metadata": {},
   "source": [
    "\n",
    "---\n",
    "<a id=5></a>\n",
    "[Topへ](#0)\n",
    "\n",
    "---\n",
    "## 5.Numpy ndarrayの演算例"
   ]
  },
  {
   "cell_type": "code",
   "execution_count": 158,
   "id": "77cad46c",
   "metadata": {},
   "outputs": [
    {
     "data": {
      "text/plain": [
       "array([[ 2,  4,  8],\n",
       "       [ 3,  9, 27]])"
      ]
     },
     "execution_count": 158,
     "metadata": {},
     "output_type": "execute_result"
    }
   ],
   "source": [
    "arr8 = [[2, 4, 8], [3, 9, 27]]\n",
    "np_arr8 = np.array(arr8)\n",
    "np_arr8"
   ]
  },
  {
   "cell_type": "code",
   "execution_count": 159,
   "id": "fd363c1d",
   "metadata": {},
   "outputs": [
    {
     "data": {
      "text/plain": [
       "array([[1002, 1004, 1008],\n",
       "       [1003, 1009, 1027]])"
      ]
     },
     "execution_count": 159,
     "metadata": {},
     "output_type": "execute_result"
    }
   ],
   "source": [
    "np_arr8 + 1000"
   ]
  },
  {
   "cell_type": "code",
   "execution_count": 160,
   "id": "0cde5f13",
   "metadata": {},
   "outputs": [
    {
     "data": {
      "text/plain": [
       "array([[ 4,  8, 16],\n",
       "       [ 6, 18, 54]])"
      ]
     },
     "execution_count": 160,
     "metadata": {},
     "output_type": "execute_result"
    }
   ],
   "source": [
    "np_arr8 * 2"
   ]
  },
  {
   "cell_type": "code",
   "execution_count": 161,
   "id": "b2aa6359",
   "metadata": {},
   "outputs": [
    {
     "data": {
      "text/plain": [
       "array([[2, 1, 2],\n",
       "       [0, 0, 0]])"
      ]
     },
     "execution_count": 161,
     "metadata": {},
     "output_type": "execute_result"
    }
   ],
   "source": [
    "np_arr8 % 3"
   ]
  },
  {
   "cell_type": "code",
   "execution_count": 162,
   "id": "626eb555",
   "metadata": {},
   "outputs": [
    {
     "data": {
      "text/plain": [
       "array([[ 1.,  2.,  5.],\n",
       "       [ 2.,  6., 18.]])"
      ]
     },
     "execution_count": 162,
     "metadata": {},
     "output_type": "execute_result"
    }
   ],
   "source": [
    "np_arr8 // 1.5"
   ]
  },
  {
   "cell_type": "code",
   "execution_count": 163,
   "id": "d9143535",
   "metadata": {},
   "outputs": [
    {
     "data": {
      "text/plain": [
       "array([[ 4,  8, 16],\n",
       "       [ 6, 18, 54]])"
      ]
     },
     "execution_count": 163,
     "metadata": {},
     "output_type": "execute_result"
    }
   ],
   "source": [
    "np_arr8 + np_arr8"
   ]
  },
  {
   "cell_type": "code",
   "execution_count": 164,
   "id": "fe3ea440",
   "metadata": {},
   "outputs": [
    {
     "data": {
      "text/plain": [
       "array([[  4,  16,  64],\n",
       "       [  9,  81, 729]])"
      ]
     },
     "execution_count": 164,
     "metadata": {},
     "output_type": "execute_result"
    }
   ],
   "source": [
    "np_arr8 * np_arr8"
   ]
  },
  {
   "cell_type": "code",
   "execution_count": 165,
   "id": "b2b05ed2",
   "metadata": {},
   "outputs": [
    {
     "data": {
      "text/plain": [
       "array([[1002, 2004, 3008],\n",
       "       [1003, 2009, 3027]])"
      ]
     },
     "execution_count": 165,
     "metadata": {},
     "output_type": "execute_result"
    }
   ],
   "source": [
    "np_arr8 + [1000, 2000, 3000]"
   ]
  },
  {
   "cell_type": "code",
   "execution_count": 168,
   "id": "3ccdaf4b",
   "metadata": {},
   "outputs": [],
   "source": [
    "# np_arr8 + [1000, 2000]\n",
    "# ValueError: operands could not be broadcast together with shapes (2,3) (2,)"
   ]
  },
  {
   "cell_type": "code",
   "execution_count": 169,
   "id": "86f338a2",
   "metadata": {},
   "outputs": [
    {
     "data": {
      "text/plain": [
       "array([[1002, 2004, 3008],\n",
       "       [1003, 2009, 3027]])"
      ]
     },
     "execution_count": 169,
     "metadata": {},
     "output_type": "execute_result"
    }
   ],
   "source": [
    "np_arr8 + [[1000, 2000, 3000]]"
   ]
  },
  {
   "cell_type": "code",
   "execution_count": 171,
   "id": "eb9e254a",
   "metadata": {},
   "outputs": [
    {
     "data": {
      "text/plain": [
       "array([[1002, 1004, 1008],\n",
       "       [2003, 2009, 2027]])"
      ]
     },
     "execution_count": 171,
     "metadata": {},
     "output_type": "execute_result"
    }
   ],
   "source": [
    "np_arr8 + [[1000], [2000]]"
   ]
  },
  {
   "cell_type": "code",
   "execution_count": 172,
   "id": "f4f6d12c",
   "metadata": {},
   "outputs": [
    {
     "data": {
      "text/plain": [
       "53"
      ]
     },
     "execution_count": 172,
     "metadata": {},
     "output_type": "execute_result"
    }
   ],
   "source": [
    "np_arr8.sum()"
   ]
  },
  {
   "cell_type": "code",
   "execution_count": 173,
   "id": "820693a3",
   "metadata": {},
   "outputs": [
    {
     "data": {
      "text/plain": [
       "array([ 5, 13, 35])"
      ]
     },
     "execution_count": 173,
     "metadata": {},
     "output_type": "execute_result"
    }
   ],
   "source": [
    "np_arr8.sum(axis=0)"
   ]
  },
  {
   "cell_type": "code",
   "execution_count": 174,
   "id": "448cd61f",
   "metadata": {},
   "outputs": [
    {
     "data": {
      "text/plain": [
       "array([14, 39])"
      ]
     },
     "execution_count": 174,
     "metadata": {},
     "output_type": "execute_result"
    }
   ],
   "source": [
    "np_arr8.sum(axis=1)"
   ]
  },
  {
   "cell_type": "code",
   "execution_count": 175,
   "id": "1dfe10c5",
   "metadata": {},
   "outputs": [
    {
     "data": {
      "text/plain": [
       "array([[  4,  16,  64],\n",
       "       [  9,  81, 729]])"
      ]
     },
     "execution_count": 175,
     "metadata": {},
     "output_type": "execute_result"
    }
   ],
   "source": [
    "np.power(np_arr8, 2)"
   ]
  },
  {
   "cell_type": "code",
   "execution_count": 176,
   "id": "fde62c01",
   "metadata": {},
   "outputs": [
    {
     "data": {
      "text/plain": [
       "array([[1.41421356, 2.        , 2.82842712],\n",
       "       [1.73205081, 3.        , 5.19615242]])"
      ]
     },
     "execution_count": 176,
     "metadata": {},
     "output_type": "execute_result"
    }
   ],
   "source": [
    "np.sqrt(np_arr8)"
   ]
  },
  {
   "cell_type": "code",
   "execution_count": 177,
   "id": "c728197f",
   "metadata": {},
   "outputs": [
    {
     "data": {
      "text/plain": [
       "array([[ 0.90929743, -0.7568025 ,  0.98935825],\n",
       "       [ 0.14112001,  0.41211849,  0.95637593]])"
      ]
     },
     "execution_count": 177,
     "metadata": {},
     "output_type": "execute_result"
    }
   ],
   "source": [
    "np.sin(np_arr8)"
   ]
  },
  {
   "cell_type": "code",
   "execution_count": 179,
   "id": "08df1a7f",
   "metadata": {},
   "outputs": [
    {
     "data": {
      "text/plain": [
       "array([[1., 2., 2.],\n",
       "       [1., 3., 5.]])"
      ]
     },
     "execution_count": 179,
     "metadata": {},
     "output_type": "execute_result"
    }
   ],
   "source": [
    "np.floor(np.sqrt(np_arr8))\n",
    "# 小数点以下を切り捨てる"
   ]
  },
  {
   "cell_type": "code",
   "execution_count": 181,
   "id": "a05ef9f0",
   "metadata": {},
   "outputs": [
    {
     "data": {
      "text/plain": [
       "array([[2., 2., 3.],\n",
       "       [2., 3., 6.]])"
      ]
     },
     "execution_count": 181,
     "metadata": {},
     "output_type": "execute_result"
    }
   ],
   "source": [
    "np.ceil(np.sqrt(np_arr8))\n",
    "# 小数点以下に切り上げる"
   ]
  },
  {
   "cell_type": "code",
   "execution_count": 182,
   "id": "631288c5",
   "metadata": {},
   "outputs": [
    {
     "data": {
      "text/plain": [
       "array([[1., 2., 3.],\n",
       "       [2., 3., 5.]])"
      ]
     },
     "execution_count": 182,
     "metadata": {},
     "output_type": "execute_result"
    }
   ],
   "source": [
    "np.round(np.sqrt(np_arr8))\n",
    "# 四捨五入する"
   ]
  },
  {
   "cell_type": "code",
   "execution_count": 183,
   "id": "15b838d3",
   "metadata": {},
   "outputs": [
    {
     "data": {
      "text/plain": [
       "array([[-8, -6, -2],\n",
       "       [-7, -1, 17]])"
      ]
     },
     "execution_count": 183,
     "metadata": {},
     "output_type": "execute_result"
    }
   ],
   "source": [
    "np_arr8 - 10"
   ]
  },
  {
   "cell_type": "code",
   "execution_count": 184,
   "id": "7f170e17",
   "metadata": {},
   "outputs": [
    {
     "data": {
      "text/plain": [
       "array([[ 8,  6,  2],\n",
       "       [ 7,  1, 17]])"
      ]
     },
     "execution_count": 184,
     "metadata": {},
     "output_type": "execute_result"
    }
   ],
   "source": [
    "# 絶対値\n",
    "np.abs(np_arr8 - 10)"
   ]
  },
  {
   "cell_type": "markdown",
   "id": "a2345564",
   "metadata": {},
   "source": [
    "---\n",
    "[Topへ](#0)\n",
    "\n",
    "---\n",
    "## 以上\n",
    "    \n",
    "---"
   ]
  }
 ],
 "metadata": {
  "kernelspec": {
   "display_name": "Python 3",
   "language": "python",
   "name": "python3"
  },
  "language_info": {
   "codemirror_mode": {
    "name": "ipython",
    "version": 3
   },
   "file_extension": ".py",
   "mimetype": "text/x-python",
   "name": "python",
   "nbconvert_exporter": "python",
   "pygments_lexer": "ipython3",
   "version": "3.9.19"
  }
 },
 "nbformat": 4,
 "nbformat_minor": 5
}
